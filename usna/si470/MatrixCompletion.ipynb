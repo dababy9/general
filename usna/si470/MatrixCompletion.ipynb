{
 "cells": [
  {
   "cell_type": "markdown",
   "id": "c01af98f-4c8f-40d1-bd34-96a1f170f183",
   "metadata": {},
   "source": [
    "# Matrix Completion, part 1\n",
    "\n",
    "This lab is a precursor to the \"big\" lab we'll do next week on matrix completion.  You will build much of the infrastructure for this assignment this week.  We will use our very small foods dataset to make sure all our code runs properly.  In some ways, this dataset is perfect for development - it is small, so our code will run fast, and the matrix is quite dense - that is, there aren't many missing data points.\n",
    "\n",
    "Begin by running the below to create your `foodMatrix` matrix you'll be completing.  Note you'll have both `foodFrame` which is the pandas dataframe and `foodMatrix` which is the numpy array."
   ]
  },
  {
   "cell_type": "code",
   "execution_count": 3,
   "id": "2a2a2f3a-4289-4aa9-9f75-f459784db4c5",
   "metadata": {
    "tags": []
   },
   "outputs": [],
   "source": [
    "import pandas as pd\n",
    "import numpy as np\n",
    "from sklearn.model_selection import train_test_split\n",
    "from copy import deepcopy"
   ]
  },
  {
   "cell_type": "code",
   "execution_count": 4,
   "id": "4ccfd2b3-e434-44a1-bee2-1300893471ed",
   "metadata": {
    "tags": []
   },
   "outputs": [
    {
     "name": "stdout",
     "output_type": "stream",
     "text": [
      "[[ 4.  4.  5. ...  4.  2.  2.]\n",
      " [ 2.  1.  4. ...  2.  4.  3.]\n",
      " [ 4.  2.  5. ... nan nan nan]\n",
      " ...\n",
      " [ 4.  4.  4. ...  1.  1.  1.]\n",
      " [ 4.  1.  2. ...  1.  1.  3.]\n",
      " [ 3.  5.  5. ...  5.  5.  2.]]\n"
     ]
    }
   ],
   "source": [
    "df = pd.read_csv('datasets/foodsAndMovies.csv')\n",
    "foodFrame = df[['Broccoli', 'Mushrooms', 'Beef Tacos', 'Salads', 'Black Licorice', 'Steak', 'Grilled Chicken', 'Mayonnaise', 'Candy Corn', 'Pulled Pork', 'Spicy Mustard', 'Raw Oysters', 'Bananas', 'Avocado', 'Eggs', 'Olives', 'Tofu', 'Cottage Cheese']]\n",
    "foodMatrix=foodFrame.values\n",
    "print(foodMatrix)"
   ]
  },
  {
   "cell_type": "markdown",
   "id": "dd02dcea-e677-4715-8e87-c2981dcf8e58",
   "metadata": {},
   "source": [
    "We need to know which indices have nans, and which do not.  Write a function which takes in a matrix like `foodMatrix` and returns a list of tuples containing the rows and columns of a rating.  That is, if your function is called on `foodMatrix`, it *should* contain `(0,0)` but should *not* contain `(2,17)`. This is because 0,0 is rated (with 4 stars) and 2,17 is not (it's a NaN).\n",
    "\n",
    "You may use generative AI for this portion, and all portions until stated otherwise."
   ]
  },
  {
   "cell_type": "code",
   "execution_count": 5,
   "id": "90713eb3-6d20-4b9a-b933-a0d1f38c25f4",
   "metadata": {
    "tags": []
   },
   "outputs": [],
   "source": [
    "def findRatings(mat):\n",
    "    indeces = []\n",
    "    numRows, numCols = mat.shape\n",
    "    for row in range(numRows):\n",
    "        for col in range(numCols):\n",
    "            if not np.isnan(mat[row][col]):\n",
    "                indeces.append((row, col))\n",
    "    return indeces"
   ]
  },
  {
   "cell_type": "markdown",
   "id": "42cd1fcb-7c9a-44f0-98ca-df786cd0d171",
   "metadata": {},
   "source": [
    "Run your function on `foodMatrix` and use sklearn's function `train_test_split()` to split the list into a training set of indices and a testing set."
   ]
  },
  {
   "cell_type": "code",
   "execution_count": 6,
   "id": "f8357a55-cb9d-4b91-8860-f3408941604c",
   "metadata": {
    "tags": []
   },
   "outputs": [],
   "source": [
    "totalIndeces = findRatings(foodMatrix)\n",
    "train, test = train_test_split(totalIndeces, test_size=0.1)"
   ]
  },
  {
   "cell_type": "markdown",
   "id": "b0fdb88d-105b-43cf-ae7e-edf639838163",
   "metadata": {},
   "source": [
    "We will need an error function so we can tell if our completion is working. We'll use root mean squared error (RMSE), which is defined as: \n",
    "\n",
    "$$\\sqrt{\\frac{\\sum_{(i,j)\\in T}(\\text{original}[i,j]-\\text{reproduction}[i,j])^2}{|T|}}$$\n",
    "\n",
    "where $T$ is a set of indices, `original` is the original matrix, and `reproduction` is your value from the completed matrix.\n",
    "\n",
    "Your function should take three arguments, the original matrix, the reproduction, and a set of indices (like your training or testing sets you created above).  Test your function with some quick sanity checks - if you call it with the same matrix for original and reproduction, do you get back 0?  If you very slightly change a value in the reproduction which appears in the index set, do you get back a non-zero but small value?"
   ]
  },
  {
   "cell_type": "code",
   "execution_count": 7,
   "id": "7d8f6a09-3ace-4779-90d6-9318283d26a7",
   "metadata": {
    "tags": []
   },
   "outputs": [
    {
     "name": "stdout",
     "output_type": "stream",
     "text": [
      "Same matrix error: 0.0\n",
      "Altered matrix error: 0.03079394062236661\n"
     ]
    }
   ],
   "source": [
    "def rmse(org, rep, indeces):\n",
    "    sum = 0\n",
    "    for row, col in indeces:\n",
    "        diff = org[row][col] - rep[row][col]\n",
    "        sum += diff * diff\n",
    "    return np.sqrt(sum/len(indeces))\n",
    "\n",
    "\n",
    "\n",
    "# using same matrix, should get 0\n",
    "print(f\"Same matrix error: {rmse(foodMatrix, foodMatrix, train)}\")\n",
    "\n",
    "# using slightly altered matrix, should get very small error\n",
    "newMatrix = deepcopy(foodMatrix)\n",
    "newMatrix[0][0] = 1\n",
    "print(f\"Altered matrix error: {rmse(foodMatrix, newMatrix, train)}\")"
   ]
  },
  {
   "cell_type": "markdown",
   "id": "dcb64e26-702d-435a-8dd3-de9999394354",
   "metadata": {},
   "source": [
    "We need to make our initial guesses of $P$ and $Q$.  Write a function which takes in a matrix's size and assumed rank, and creates appropriate $P$ and $Q$.  A danger here is if you use large values, `P@Q` will overflow, so start with small, random values close to zero."
   ]
  },
  {
   "cell_type": "code",
   "execution_count": 8,
   "id": "68a75fd2-0a3a-49da-8648-ff425124c27f",
   "metadata": {
    "tags": []
   },
   "outputs": [
    {
     "name": "stdout",
     "output_type": "stream",
     "text": [
      "[[0.76918713 0.54537891 0.62532785 ... 0.56925452 0.03413963 0.82197688]\n",
      " [0.46921526 0.7421613  0.11003365 ... 0.18552114 0.93533092 0.05919732]\n",
      " [0.71169163 0.45302281 0.91282262 ... 0.13517646 0.62027315 0.7116855 ]\n",
      " ...\n",
      " [0.12033096 0.33066243 0.20652676 ... 0.07875383 0.2722366  0.0247043 ]\n",
      " [0.1247356  0.91187243 0.51405045 ... 0.14043387 0.53256987 0.38386902]\n",
      " [0.07306509 0.80938827 0.94034749 ... 0.83856481 0.73500079 0.88167336]]\n",
      "----------------\n",
      "[[0.62403632 0.60300322 0.50677801 0.21829775 0.63004021 0.9859105\n",
      "  0.69015227 0.57214428 0.64023838 0.89602977 0.21103068 0.66108914\n",
      "  0.70805325 0.71856734 0.84535905 0.93321328 0.86201811 0.42354103]\n",
      " [0.72133255 0.04249176 0.14104644 0.4336681  0.89264981 0.91512324\n",
      "  0.91521858 0.10451682 0.42578513 0.17202789 0.94802908 0.40228155\n",
      "  0.80144581 0.03220412 0.39927492 0.90453767 0.41151031 0.61357729]\n",
      " [0.11716004 0.31196895 0.42097983 0.31720997 0.566128   0.3368419\n",
      "  0.48742734 0.32644636 0.58793952 0.41373806 0.32447384 0.05280124\n",
      "  0.21440047 0.8448782  0.42119426 0.35902184 0.54020099 0.77977485]\n",
      " [0.10115769 0.5777201  0.7129129  0.92828285 0.05908598 0.10529009\n",
      "  0.37044822 0.17545399 0.71069976 0.03223586 0.58170597 0.88363444\n",
      "  0.82417586 0.51369015 0.75407023 0.29387328 0.64421249 0.65988842]\n",
      " [0.97215344 0.88064816 0.31535786 0.57203333 0.52758364 0.47219791\n",
      "  0.94441236 0.46049688 0.12397789 0.38139643 0.1462131  0.71650096\n",
      "  0.79804563 0.42191945 0.10133657 0.79399081 0.78439929 0.14499818]\n",
      " [0.15144941 0.00542226 0.40499293 0.5687528  0.78605877 0.53240693\n",
      "  0.84208642 0.86602626 0.4934514  0.84080099 0.5515428  0.46801987\n",
      "  0.45147305 0.4031596  0.49418489 0.03524467 0.96158696 0.26124265]\n",
      " [0.07851481 0.07942866 0.77803139 0.42782514 0.41441154 0.21394594\n",
      "  0.13570295 0.6009068  0.81020803 0.54205322 0.36896748 0.719595\n",
      "  0.28780934 0.79181084 0.27007525 0.77230192 0.53261938 0.81356741]\n",
      " [0.01568392 0.6532178  0.16996562 0.55569075 0.95329696 0.71087804\n",
      "  0.98892748 0.67287231 0.18876259 0.08083203 0.22004724 0.37329911\n",
      "  0.99641721 0.57450091 0.94123567 0.79895649 0.97055843 0.91412682]\n",
      " [0.68172741 0.62937623 0.47288079 0.76119652 0.15853785 0.55646086\n",
      "  0.97549582 0.29365382 0.33729313 0.97268901 0.16940418 0.15949789\n",
      "  0.65180129 0.30513903 0.40630664 0.27251788 0.13609149 0.06564686]\n",
      " [0.30017491 0.14678374 0.48459735 0.47889124 0.74623491 0.97596742\n",
      "  0.61177062 0.13530548 0.47643107 0.01475533 0.56493975 0.44760383\n",
      "  0.69918694 0.20863556 0.52638756 0.58395311 0.30969673 0.14573372]]\n"
     ]
    }
   ],
   "source": [
    "# returns (P, Q)\n",
    "def createPQ(dimension, rank):\n",
    "    return (np.random.rand(dimension[0], rank), np.random.rand(rank, dimension[1]))\n",
    "\n",
    "P, Q = createPQ(foodMatrix.shape, 10)\n",
    "print(P)\n",
    "print(\"----------------\")\n",
    "print(Q)"
   ]
  },
  {
   "cell_type": "markdown",
   "id": "6cf5bb8a-2781-4217-8a51-e96dfd7408b0",
   "metadata": {},
   "source": [
    "It's business time.  Make a function called `epoch`, which runs one epoch of training.  It should accept your original matrix, your current values of $P$ and $Q$, a stepsize, a training set of indices and a testing set of indices.  It should train on all elements of the training set, then calculate the training and testing errors.  It should return the updated matrices $P$, $Q$, and the scalars of the training and testing errors.\n",
    "\n",
    "You may **NOT** use generative AI on this portion.  You may not use functions from other libraries that purport to perform matrix completion."
   ]
  },
  {
   "cell_type": "code",
   "execution_count": null,
   "id": "d85b5ed5-3f1a-4597-b31b-0487335b9ebf",
   "metadata": {
    "tags": []
   },
   "outputs": [],
   "source": [
    "def epoch(original, P, Q, a, train, test):\n",
    "    "
   ]
  },
  {
   "cell_type": "markdown",
   "id": "b519ab43-e098-4d82-8728-22b09a29b9ba",
   "metadata": {},
   "source": [
    "Now you have everything you need.  Choose some assumed rank, stepsize, and number of epochs, and run matrix completion.  Keep lists of the training and testing errors after each epoch.  You may **NOT** use generative AI on this portion."
   ]
  },
  {
   "cell_type": "code",
   "execution_count": null,
   "id": "40bc78fb-4f25-4903-8c86-85e9b0bd6026",
   "metadata": {
    "tags": []
   },
   "outputs": [],
   "source": []
  },
  {
   "cell_type": "markdown",
   "id": "4f567634-0209-463b-a934-47500a1e6006",
   "metadata": {},
   "source": [
    "Plot your training and testing errors as a function of the epoch. You **may** use generative AI on this portion."
   ]
  },
  {
   "cell_type": "code",
   "execution_count": null,
   "id": "e825bf8e-e3cb-4e9c-96c7-036dec9f5b86",
   "metadata": {
    "tags": []
   },
   "outputs": [],
   "source": []
  },
  {
   "cell_type": "markdown",
   "id": "d675d526-4ab1-4ce7-95de-52f5393aaa91",
   "metadata": {},
   "source": [
    "Play around with the stepsize, rank, and number of epochs.  Below, answer a couple questions, by running experiments and showing me error plots that support your argument.\n",
    "\n",
    "- What happened when your stepsize was too small? Too large?\n",
    "- Relate the value of rank to bias and variance.  What would cause high bias and low variance?  What about low bias and high variance?\n",
    "- Is more epochs always better?\n",
    "\n",
    "You may **NOT** use generative AI on this portion."
   ]
  },
  {
   "cell_type": "code",
   "execution_count": null,
   "id": "69419506-0a78-4a91-b946-3d1016d90433",
   "metadata": {},
   "outputs": [],
   "source": []
  }
 ],
 "metadata": {
  "kernelspec": {
   "display_name": "Python 3 (ipykernel)",
   "language": "python",
   "name": "python3"
  },
  "language_info": {
   "codemirror_mode": {
    "name": "ipython",
    "version": 3
   },
   "file_extension": ".py",
   "mimetype": "text/x-python",
   "name": "python",
   "nbconvert_exporter": "python",
   "pygments_lexer": "ipython3",
   "version": "3.12.3"
  }
 },
 "nbformat": 4,
 "nbformat_minor": 5
}
