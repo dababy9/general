{
 "cells": [
  {
   "cell_type": "code",
   "execution_count": 3,
   "id": "a744d9eb-0f4a-476e-9994-d68d6e07c91d",
   "metadata": {},
   "outputs": [],
   "source": [
    "import torch\n",
    "import time"
   ]
  },
  {
   "cell_type": "code",
   "execution_count": 6,
   "id": "7f999081-0e88-4d7d-90d3-0e3f6f0190e4",
   "metadata": {},
   "outputs": [
    {
     "name": "stdout",
     "output_type": "stream",
     "text": [
      "CPU computation time: 14.4463 seconds\n",
      "GPU computation time: 0.6408 seconds\n"
     ]
    }
   ],
   "source": [
    "# Set the size of the tensors for the test (e.g., 10,000 x 10,000 matrix)\n",
    "tensor_size = 20000\n",
    "\n",
    "# Create random tensors on the CPU\n",
    "x_cpu = torch.randn(tensor_size, tensor_size)\n",
    "y_cpu = torch.randn(tensor_size, tensor_size)\n",
    "\n",
    "# Perform matrix multiplication on the CPU\n",
    "start_time = time.time()\n",
    "result_cpu = torch.mm(x_cpu, y_cpu)\n",
    "cpu_time = time.time() - start_time\n",
    "\n",
    "print(f\"CPU computation time: {cpu_time:.4f} seconds\")\n",
    "\n",
    "\n",
    "device = torch.device(\"cuda\")\n",
    "x_gpu = x_cpu.to(device)\n",
    "y_gpu = y_cpu.to(device)\n",
    "\n",
    "# Warm-up GPU (to avoid startup overhead affecting the time)\n",
    "_ = torch.mm(x_gpu, y_gpu)\n",
    "\n",
    "# Perform matrix multiplication on the GPU and measure the time\n",
    "torch.cuda.synchronize()  # Synchronize to ensure accurate timing\n",
    "start_time = time.time()\n",
    "result_gpu = torch.mm(x_gpu, y_gpu)\n",
    "torch.cuda.synchronize()  # Ensure all GPU operations are done\n",
    "gpu_time = time.time() - start_time\n",
    "print(f\"GPU computation time: {gpu_time:.4f} seconds\")"
   ]
  },
  {
   "cell_type": "code",
   "execution_count": null,
   "id": "9624de7e-44bc-48f8-b12a-0ac9e0099c1f",
   "metadata": {},
   "outputs": [],
   "source": [
    "# Set the size of the tensor for the test\n",
    "tensor_size = 1000000000  # 100 million elements\n",
    "\n",
    "# Number of repetitions to highlight parallelism\n",
    "repetitions = 100\n",
    "\n",
    "# CPU Test: Element-wise addition\n",
    "x_cpu = torch.randn(tensor_size)\n",
    "y_cpu = torch.randn(tensor_size)\n",
    "\n",
    "start_time = time.time()\n",
    "for _ in range(repetitions):\n",
    "    result_cpu = x_cpu + y_cpu\n",
    "cpu_time = time.time() - start_time\n",
    "\n",
    "print(f\"CPU parallelism test time: {cpu_time:.4f} seconds\")\n",
    "\n",
    "# GPU Test: Element-wise addition (if GPU is available)\n",
    "if torch.cuda.is_available():\n",
    "    device = torch.device(\"cuda\")\n",
    "    \n",
    "    # Move tensors to GPU\n",
    "    x_gpu = x_cpu.to(device)\n",
    "    y_gpu = y_cpu.to(device)\n",
    "\n",
    "    # Warm-up step\n",
    "    _ = x_gpu + y_gpu\n",
    "\n",
    "    # Synchronize and perform the operation on the GPU\n",
    "    torch.cuda.synchronize()  # Ensure accurate timing\n",
    "    start_time = time.time()\n",
    "    for _ in range(repetitions):\n",
    "        result_gpu = x_gpu + y_gpu\n",
    "    torch.cuda.synchronize()  # Ensure GPU operations are finished\n",
    "    gpu_time = time.time() - start_time\n",
    "\n",
    "    print(f\"GPU parallelism test time: {gpu_time:.4f} seconds\")\n",
    "else:\n",
    "    print(\"No GPU available\")"
   ]
  },
  {
   "cell_type": "code",
   "execution_count": null,
   "id": "2c603b36-fb99-45bb-8686-303666c7ec03",
   "metadata": {},
   "outputs": [],
   "source": []
  }
 ],
 "metadata": {
  "kernelspec": {
   "display_name": "Python 3 (ipykernel)",
   "language": "python",
   "name": "python3"
  },
  "language_info": {
   "codemirror_mode": {
    "name": "ipython",
    "version": 3
   },
   "file_extension": ".py",
   "mimetype": "text/x-python",
   "name": "python",
   "nbconvert_exporter": "python",
   "pygments_lexer": "ipython3",
   "version": "3.12.3"
  }
 },
 "nbformat": 4,
 "nbformat_minor": 5
}
