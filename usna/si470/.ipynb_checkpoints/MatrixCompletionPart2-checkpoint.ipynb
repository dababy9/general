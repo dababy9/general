{
 "cells": [
  {
   "cell_type": "code",
   "execution_count": 18,
   "id": "2a2a2f3a-4289-4aa9-9f75-f459784db4c5",
   "metadata": {
    "tags": []
   },
   "outputs": [],
   "source": [
    "import pandas as pd\n",
    "import numpy as np\n",
    "import matplotlib.pyplot as plt\n",
    "from sklearn.model_selection import train_test_split\n",
    "from copy import deepcopy"
   ]
  },
  {
   "cell_type": "code",
   "execution_count": 46,
   "id": "4ccfd2b3-e434-44a1-bee2-1300893471ed",
   "metadata": {
    "tags": []
   },
   "outputs": [],
   "source": [
    "df = pd.read_csv('datasets/ml-latest-small/ratings.csv')\n",
    "# create dataframe with movieId as rows and userId as columns (using pivot function from ChatGPT)\n",
    "ratings = df.pivot(index='userId', columns='movieId', values='rating').dropna(thresh=25).dropna(axis='columns', thresh=4)\n",
    "ratingsMatrix = ratings.values"
   ]
  },
  {
   "cell_type": "code",
   "execution_count": 47,
   "id": "90713eb3-6d20-4b9a-b933-a0d1f38c25f4",
   "metadata": {
    "tags": []
   },
   "outputs": [],
   "source": [
    "def findRatings(mat):\n",
    "    indeces = []\n",
    "    numRows, numCols = mat.shape\n",
    "    for row in range(numRows):\n",
    "        for col in range(numCols):\n",
    "            if not np.isnan(mat[row][col]):\n",
    "                indeces.append((row, col))\n",
    "    return indeces"
   ]
  },
  {
   "cell_type": "code",
   "execution_count": 48,
   "id": "f8357a55-cb9d-4b91-8860-f3408941604c",
   "metadata": {
    "tags": []
   },
   "outputs": [],
   "source": [
    "totalIndeces = findRatings(ratingsMatrix)\n",
    "train, test = train_test_split(totalIndeces, test_size=0.1)"
   ]
  },
  {
   "cell_type": "code",
   "execution_count": 49,
   "id": "7d8f6a09-3ace-4779-90d6-9318283d26a7",
   "metadata": {
    "tags": []
   },
   "outputs": [],
   "source": [
    "def rmse(org, rep, indeces):\n",
    "    sum = 0\n",
    "    for row, col in indeces:\n",
    "        diff = org[row][col] - rep[row][col]\n",
    "        sum += diff * diff\n",
    "    return np.sqrt(sum/len(indeces))"
   ]
  },
  {
   "cell_type": "code",
   "execution_count": 50,
   "id": "68a75fd2-0a3a-49da-8648-ff425124c27f",
   "metadata": {
    "tags": []
   },
   "outputs": [],
   "source": [
    "# returns (P, Q)\n",
    "def createPQ(dimension, rank):\n",
    "    return (np.square(np.random.rand(dimension[0], rank)-0.5), np.square(np.random.rand(rank, dimension[1])-0.5))\n",
    "\n",
    "P, Q = createPQ(ratingsMatrix.shape, 10)"
   ]
  },
  {
   "cell_type": "code",
   "execution_count": 51,
   "id": "d85b5ed5-3f1a-4597-b31b-0487335b9ebf",
   "metadata": {
    "tags": []
   },
   "outputs": [],
   "source": [
    "# returns (P, Q, training error, testing error)\n",
    "def epoch(original, fP, fQ, a, fTrain, fTest):\n",
    "\n",
    "    # train on elements from training set\n",
    "    fQ = fQ.T\n",
    "    for i, j in fTrain:\n",
    "        alphaGradient = (original[i][j] - np.dot(fP[i], fQ[j]))*a\n",
    "        fP[i], fQ[j] = fP[i] + fQ[j]*alphaGradient, fQ[j] + fP[i]*alphaGradient\n",
    "    fQ = fQ.T\n",
    "\n",
    "    # return P, Q, training error and testing error\n",
    "    reconstruction = fP @ fQ\n",
    "    return (fP, fQ, rmse(original, reconstruction, fTrain), rmse(original, reconstruction, fTest))"
   ]
  },
  {
   "cell_type": "code",
   "execution_count": 52,
   "id": "40bc78fb-4f25-4903-8c86-85e9b0bd6026",
   "metadata": {
    "tags": []
   },
   "outputs": [],
   "source": [
    "def matrixCompletion(original, fP, fQ, rank, stepSize, numEpochs):\n",
    "\n",
    "    # run matrix completion, keep track of error\n",
    "    trainErrors, testErrors = [], []\n",
    "    for i in range(numEpochs):\n",
    "        fP, fQ, trainE, testE = epoch(original, fP, fQ, stepSize, train, test)\n",
    "        trainErrors.append(trainE)\n",
    "        testErrors.append(testE)\n",
    "\n",
    "    # plot error\n",
    "    plt.plot(range(len(trainErrors)), trainErrors, label='Training Error')\n",
    "    plt.plot(range(len(testErrors)), testErrors, label='Testing Error')\n",
    "    plt.xlabel('Epoch')\n",
    "    plt.ylabel('Error')\n",
    "    plt.legend()\n",
    "    plt.show()"
   ]
  },
  {
   "cell_type": "code",
   "execution_count": 54,
   "id": "69419506-0a78-4a91-b946-3d1016d90433",
   "metadata": {},
   "outputs": [
    {
     "data": {
      "image/png": "[encoded data removed]",
      "text/plain": [
       "<Figure size 640x480 with 1 Axes>"
      ]
     },
     "metadata": {},
     "output_type": "display_data"
    }
   ],
   "source": [
    "# small step size\n",
    "matrixCompletion(ratingsMatrix, deepcopy(P), deepcopy(Q), 10, 0.001, 100)"
   ]
  }
 ],
 "metadata": {
  "kernelspec": {
   "display_name": "Python 3 (ipykernel)",
   "language": "python",
   "name": "python3"
  },
  "language_info": {
   "codemirror_mode": {
    "name": "ipython",
    "version": 3
   },
   "file_extension": ".py",
   "mimetype": "text/x-python",
   "name": "python",
   "nbconvert_exporter": "python",
   "pygments_lexer": "ipython3",
   "version": "3.12.3"
  }
 },
 "nbformat": 4,
 "nbformat_minor": 5
}
