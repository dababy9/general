{
 "cells": [
  {
   "cell_type": "markdown",
   "id": "c01af98f-4c8f-40d1-bd34-96a1f170f183",
   "metadata": {},
   "source": [
    "# Matrix Completion, part 1\n",
    "\n",
    "This lab is a precursor to the \"big\" lab we'll do next week on matrix completion.  You will build much of the infrastructure for this assignment this week.  We will use our very small foods dataset to make sure all our code runs properly.  In some ways, this dataset is perfect for development - it is small, so our code will run fast, and the matrix is quite dense - that is, there aren't many missing data points.\n",
    "\n",
    "Begin by running the below to create your `foodMatrix` matrix you'll be completing.  Note you'll have both `foodFrame` which is the pandas dataframe and `foodMatrix` which is the numpy array."
   ]
  },
  {
   "cell_type": "code",
   "execution_count": null,
   "id": "2a2a2f3a-4289-4aa9-9f75-f459784db4c5",
   "metadata": {
    "tags": []
   },
   "outputs": [],
   "source": [
    "import pandas as pd\n",
    "import numpy as np"
   ]
  },
  {
   "cell_type": "code",
   "execution_count": null,
   "id": "4ccfd2b3-e434-44a1-bee2-1300893471ed",
   "metadata": {
    "tags": []
   },
   "outputs": [],
   "source": [
    "df = pd.read_csv('datasets/foodsAndMovies.csv')\n",
    "foodFrame = df[['Broccoli', 'Mushrooms', 'Beef Tacos', 'Salads', 'Black Licorice', 'Steak', 'Grilled Chicken', 'Mayonnaise', 'Candy Corn', 'Pulled Pork', 'Spicy Mustard', 'Raw Oysters', 'Bananas', 'Avocado', 'Eggs', 'Olives', 'Tofu', 'Cottage Cheese']]\n",
    "foodMatrix=foodFrame.values\n",
    "print(foodMatrix)"
   ]
  },
  {
   "cell_type": "markdown",
   "id": "dd02dcea-e677-4715-8e87-c2981dcf8e58",
   "metadata": {},
   "source": [
    "We need to know which indices have nans, and which do not.  Write a function which takes in a matrix like `foodMatrix` and returns a list of tuples containing the rows and columns of a rating.  That is, if your function is called on `foodMatrix`, it *should* contain `(0,0)` but should *not* contain `(2,17)`. This is because 0,0 is rated (with 4 stars) and 2,17 is not (it's a NaN).\n",
    "\n",
    "You may use generative AI for this portion, and all portions until stated otherwise."
   ]
  },
  {
   "cell_type": "code",
   "execution_count": null,
   "id": "90713eb3-6d20-4b9a-b933-a0d1f38c25f4",
   "metadata": {
    "tags": []
   },
   "outputs": [],
   "source": []
  },
  {
   "cell_type": "markdown",
   "id": "42cd1fcb-7c9a-44f0-98ca-df786cd0d171",
   "metadata": {},
   "source": [
    "Run your function on `foodMatrix` and use sklearn's function `train_test_split()` to split the list into a training set of indices and a testing set."
   ]
  },
  {
   "cell_type": "code",
   "execution_count": null,
   "id": "f8357a55-cb9d-4b91-8860-f3408941604c",
   "metadata": {
    "tags": []
   },
   "outputs": [],
   "source": []
  },
  {
   "cell_type": "markdown",
   "id": "b0fdb88d-105b-43cf-ae7e-edf639838163",
   "metadata": {},
   "source": [
    "We will need an error function so we can tell if our completion is working. We'll use root mean squared error (RMSE), which is defined as: \n",
    "\n",
    "$$\\sqrt{\\frac{\\sum_{(i,j)\\in T}(\\text{original}[i,j]-\\text{reproduction}[i,j])^2}{|T|}}$$\n",
    "\n",
    "where $T$ is a set of indices, `original` is the original matrix, and `reproduction` is your value from the completed matrix.\n",
    "\n",
    "Your function should take three arguments, the original matrix, the reproduction, and a set of indices (like your training or testing sets you created above).  Test your function with some quick sanity checks - if you call it with the same matrix for original and reproduction, do you get back 0?  If you very slightly change a value in the reproduction which appears in the index set, do you get back a non-zero but small value?"
   ]
  },
  {
   "cell_type": "code",
   "execution_count": null,
   "id": "7d8f6a09-3ace-4779-90d6-9318283d26a7",
   "metadata": {
    "tags": []
   },
   "outputs": [],
   "source": []
  },
  {
   "cell_type": "markdown",
   "id": "dcb64e26-702d-435a-8dd3-de9999394354",
   "metadata": {},
   "source": [
    "We need to make our initial guesses of $P$ and $Q$.  Write a function which takes in a matrix's size and assumed rank, and creates appropriate $P$ and $Q$.  A danger here is if you use large values, `P@Q` will overflow, so start with small, random values close to zero."
   ]
  },
  {
   "cell_type": "code",
   "execution_count": null,
   "id": "68a75fd2-0a3a-49da-8648-ff425124c27f",
   "metadata": {
    "tags": []
   },
   "outputs": [],
   "source": []
  },
  {
   "cell_type": "markdown",
   "id": "6cf5bb8a-2781-4217-8a51-e96dfd7408b0",
   "metadata": {},
   "source": [
    "It's business time.  Make a function called `epoch`, which runs one epoch of training.  It should accept your original matrix, your current values of $P$ and $Q$, a stepsize, a training set of indices and a testing set of indices.  It should train on all elements of the training set, then calculate the training and testing errors.  It should return the updated matrices $P$, $Q$, and the scalars of the training and testing errors.\n",
    "\n",
    "You may **NOT** use generative AI on this portion.  You may not use functions from other libraries that purport to perform matrix completion."
   ]
  },
  {
   "cell_type": "code",
   "execution_count": null,
   "id": "d85b5ed5-3f1a-4597-b31b-0487335b9ebf",
   "metadata": {
    "tags": []
   },
   "outputs": [],
   "source": []
  },
  {
   "cell_type": "markdown",
   "id": "b519ab43-e098-4d82-8728-22b09a29b9ba",
   "metadata": {},
   "source": [
    "Now you have everything you need.  Choose some assumed rank, stepsize, and number of epochs, and run matrix completion.  Keep lists of the training and testing errors after each epoch.  You may **NOT** use generative AI on this portion."
   ]
  },
  {
   "cell_type": "code",
   "execution_count": null,
   "id": "40bc78fb-4f25-4903-8c86-85e9b0bd6026",
   "metadata": {
    "tags": []
   },
   "outputs": [],
   "source": []
  },
  {
   "cell_type": "markdown",
   "id": "4f567634-0209-463b-a934-47500a1e6006",
   "metadata": {},
   "source": [
    "Plot your training and testing errors as a function of the epoch. You **may** use generative AI on this portion."
   ]
  },
  {
   "cell_type": "code",
   "execution_count": null,
   "id": "e825bf8e-e3cb-4e9c-96c7-036dec9f5b86",
   "metadata": {
    "tags": []
   },
   "outputs": [],
   "source": []
  },
  {
   "cell_type": "markdown",
   "id": "d675d526-4ab1-4ce7-95de-52f5393aaa91",
   "metadata": {},
   "source": [
    "Play around with the stepsize, rank, and number of epochs.  Below, answer a couple questions, by running experiments and showing me error plots that support your argument.\n",
    "\n",
    "- What happened when your stepsize was too small? Too large?\n",
    "- Relate the value of rank to bias and variance.  What would cause high bias and low variance?  What about low bias and high variance?\n",
    "- Is more epochs always better?\n",
    "\n",
    "You may **NOT** use generative AI on this portion."
   ]
  },
  {
   "cell_type": "code",
   "execution_count": null,
   "id": "69419506-0a78-4a91-b946-3d1016d90433",
   "metadata": {},
   "outputs": [],
   "source": []
  }
 ],
 "metadata": {
  "kernelspec": {
   "display_name": "Python 3 (ipykernel)",
   "language": "python",
   "name": "python3"
  },
  "language_info": {
   "codemirror_mode": {
    "name": "ipython",
    "version": 3
   },
   "file_extension": ".py",
   "mimetype": "text/x-python",
   "name": "python",
   "nbconvert_exporter": "python",
   "pygments_lexer": "ipython3",
   "version": "3.12.3"
  }
 },
 "nbformat": 4,
 "nbformat_minor": 5
}
