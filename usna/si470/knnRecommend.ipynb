{
 "cells": [
  {
   "cell_type": "code",
   "execution_count": 9,
   "id": "713f35b2-c85a-482c-b35d-31e40a60f18a",
   "metadata": {},
   "outputs": [],
   "source": [
    "import pandas as pd\n",
    "import numpy as np\n",
    "from sklearn.neighbors import NearestNeighbors"
   ]
  },
  {
   "cell_type": "markdown",
   "id": "b067f6cc-f2d5-4e97-a712-46b06e96c184",
   "metadata": {},
   "source": [
    "# Movie Recommendations from k-Nearest Neighbors\n",
    "\n",
    "We're going to create a movie recommendation system that will recommend a movie similar to an input movie.  In other words, perhaps a person just finished watching the horror movie \"Saw.\"  We're going to assume they liked it, and recommend another movie like \"Saw\" by using only user ratings (we'll consider the user's actual preferences and previous movie ratings in a later project).\n",
    "\n",
    "Start by making a numpy matrix where the row is the user's ID and the column is the movie's ID, and the contents are the rating entered by that user and stored in your dataset's `ratings.csv`.\n",
    "\n",
    "Most users have not seen most movies, so there are many blanks.  Decide what to fill them in with, and explain in a markdown cell what you chose.  You may use generative AI in this portion."
   ]
  },
  {
   "cell_type": "code",
   "execution_count": 10,
   "id": "88d7d2cf-b338-412b-b216-437e46fa4522",
   "metadata": {},
   "outputs": [],
   "source": [
    "# filepath to the datasets for this lab\n",
    "filepath = \"datasets/ml-latest-small/\"\n",
    "\n",
    "# read csv\n",
    "df = pd.read_csv(filepath + \"ratings.csv\")\n",
    "\n",
    "# create dataframe with movieId as rows and userId as columns (using pivot function from ChatGPT)\n",
    "ratings = df.pivot(index='movieId', columns='userId', values='rating').fillna(0)"
   ]
  },
  {
   "cell_type": "markdown",
   "id": "b34b2bd0-674d-4ce3-87e3-7d58218ce5fd",
   "metadata": {},
   "source": [
    "I decided to use `0` when filling in the blanks."
   ]
  },
  {
   "cell_type": "markdown",
   "id": "8bcc9eb8-0bf7-4af9-936b-a4d7c696a486",
   "metadata": {},
   "source": [
    "Now we need to read in `movies.csv`, so we can map movie IDs to titles.  Using your data structures knowledge, decide how to store this information so your lookup is quick.  Be aware that there are movieIDs missing (for example, there is no movie 33).  You may **not** use generative AI for this portion or anywhere later on this assignment until future notice."
   ]
  },
  {
   "cell_type": "code",
   "execution_count": 11,
   "id": "148ff629-cb5c-4ab0-9c2f-cc230ea273ce",
   "metadata": {},
   "outputs": [],
   "source": [
    "# read in movies.csv to map movieIds to movie names\n",
    "movies = pd.read_csv(filepath + \"movies.csv\").drop(columns=['genres'])\n",
    "\n",
    "# create list of all movieIds that have at least one rating\n",
    "withRatings = df['movieId'].unique()\n",
    "\n",
    "# loop through all possible movieIds, and for movies with no ratings, add a row to 'ratings' dataframe (will throw off indeces if they are missing)\n",
    "for i in movies['movieId']:\n",
    "    if not i in withRatings:\n",
    "        ratings.loc[i] = np.zeros(610, dtype=int)\n",
    "\n",
    "# sort rows of dataframe by movieId\n",
    "ratings = ratings.sort_index()"
   ]
  },
  {
   "cell_type": "markdown",
   "id": "ad0f8c64-8e24-4044-bf1f-2a158f4407ef",
   "metadata": {},
   "source": [
    "Naturally, [sklearn has a handy object for nearest neighbors](https://scikit-learn.org/stable/modules/generated/sklearn.neighbors.NearestNeighbors.html).  Write a function which accepts a distance metric as an argument and builds a NearestNeighbors object, runs it to calculate the 15 movies most similar to any given movie using that metric, and returns that object."
   ]
  },
  {
   "cell_type": "code",
   "execution_count": 12,
   "id": "fd39cde1-4806-4cef-af52-bff0e361c547",
   "metadata": {},
   "outputs": [],
   "source": [
    "def buildNN(distMetric):\n",
    "    return NearestNeighbors(n_neighbors=16, metric=distMetric)"
   ]
  },
  {
   "cell_type": "markdown",
   "id": "b6c58d91-41bb-4a49-8559-effed4b8c47b",
   "metadata": {},
   "source": [
    "Make a function that accepts a movieID and NearestNeighbors object and returns the names of the 15 movies most similar to that movieID."
   ]
  },
  {
   "cell_type": "code",
   "execution_count": 25,
   "id": "907c8cfa-824e-4722-b472-5aa7c1d14267",
   "metadata": {},
   "outputs": [],
   "source": [
    "def findNN(movieID, nn):\n",
    "    nn.fit(ratings)\n",
    "    return movies.loc[nn.kneighbors([ratings.loc[movieID]], return_distance=False)[0]]['title'].reset_index().drop(columns=['index'])[1:]"
   ]
  },
  {
   "cell_type": "markdown",
   "id": "1049e918-b33b-4ab1-a50c-62c18695cf34",
   "metadata": {},
   "source": [
    "Horror movies usually do very well with this approach.  Try it on Saw using euclidean distance, and make sure the answers make sense."
   ]
  },
  {
   "cell_type": "code",
   "execution_count": 26,
   "id": "ac6686e2-2a00-4171-9bec-69b608e43eca",
   "metadata": {},
   "outputs": [
    {
     "data": {
      "text/html": [
       "<div>\n",
       "<style scoped>\n",
       "    .dataframe tbody tr th:only-of-type {\n",
       "        vertical-align: middle;\n",
       "    }\n",
       "\n",
       "    .dataframe tbody tr th {\n",
       "        vertical-align: top;\n",
       "    }\n",
       "\n",
       "    .dataframe thead th {\n",
       "        text-align: right;\n",
       "    }\n",
       "</style>\n",
       "<table border=\"1\" class=\"dataframe\">\n",
       "  <thead>\n",
       "    <tr style=\"text-align: right;\">\n",
       "      <th></th>\n",
       "      <th>title</th>\n",
       "    </tr>\n",
       "  </thead>\n",
       "  <tbody>\n",
       "    <tr>\n",
       "      <th>1</th>\n",
       "      <td>Phone Booth (2002)</td>\n",
       "    </tr>\n",
       "    <tr>\n",
       "      <th>2</th>\n",
       "      <td>Saw II (2005)</td>\n",
       "    </tr>\n",
       "    <tr>\n",
       "      <th>3</th>\n",
       "      <td>Final Destination 3 (2006)</td>\n",
       "    </tr>\n",
       "    <tr>\n",
       "      <th>4</th>\n",
       "      <td>Saw III (2006)</td>\n",
       "    </tr>\n",
       "    <tr>\n",
       "      <th>5</th>\n",
       "      <td>Resident Evil: Afterlife (2010)</td>\n",
       "    </tr>\n",
       "    <tr>\n",
       "      <th>6</th>\n",
       "      <td>Hostel (2005)</td>\n",
       "    </tr>\n",
       "    <tr>\n",
       "      <th>7</th>\n",
       "      <td>Repo Men (2010)</td>\n",
       "    </tr>\n",
       "    <tr>\n",
       "      <th>8</th>\n",
       "      <td>Hostage (2005)</td>\n",
       "    </tr>\n",
       "    <tr>\n",
       "      <th>9</th>\n",
       "      <td>Freddy vs. Jason (2003)</td>\n",
       "    </tr>\n",
       "    <tr>\n",
       "      <th>10</th>\n",
       "      <td>Firewall (2006)</td>\n",
       "    </tr>\n",
       "    <tr>\n",
       "      <th>11</th>\n",
       "      <td>Saw IV (2007)</td>\n",
       "    </tr>\n",
       "    <tr>\n",
       "      <th>12</th>\n",
       "      <td>Smokin' Aces (2006)</td>\n",
       "    </tr>\n",
       "    <tr>\n",
       "      <th>13</th>\n",
       "      <td>Saw VI (2009)</td>\n",
       "    </tr>\n",
       "    <tr>\n",
       "      <th>14</th>\n",
       "      <td>Doom (2005)</td>\n",
       "    </tr>\n",
       "    <tr>\n",
       "      <th>15</th>\n",
       "      <td>Hot Chick, The (2002)</td>\n",
       "    </tr>\n",
       "  </tbody>\n",
       "</table>\n",
       "</div>"
      ],
      "text/plain": [
       "                              title\n",
       "1                Phone Booth (2002)\n",
       "2                     Saw II (2005)\n",
       "3        Final Destination 3 (2006)\n",
       "4                    Saw III (2006)\n",
       "5   Resident Evil: Afterlife (2010)\n",
       "6                     Hostel (2005)\n",
       "7                   Repo Men (2010)\n",
       "8                    Hostage (2005)\n",
       "9           Freddy vs. Jason (2003)\n",
       "10                  Firewall (2006)\n",
       "11                    Saw IV (2007)\n",
       "12              Smokin' Aces (2006)\n",
       "13                    Saw VI (2009)\n",
       "14                      Doom (2005)\n",
       "15            Hot Chick, The (2002)"
      ]
     },
     "execution_count": 26,
     "metadata": {},
     "output_type": "execute_result"
    }
   ],
   "source": [
    "# 8957 is the movieId for 'Saw'\n",
    "findNN(8957, buildNN('euclidean'))"
   ]
  },
  {
   "cell_type": "markdown",
   "id": "ffbb1ea2-65a4-4f5c-ab62-cbd06e882a4a",
   "metadata": {},
   "source": [
    "Now, for analysis.  Choose five movies of different genres, and try your approach.  Run it with 1) **different distance metrics** and 2) **different techniques for filling in blank spaces**.  Qualitatively explain which recommendations make the most sense to you, and which combination of filled-in-blanks and distance metrics you would actually deploy."
   ]
  },
  {
   "cell_type": "code",
   "execution_count": 33,
   "id": "64d5224f-2eee-421f-8689-30a7606f75ee",
   "metadata": {},
   "outputs": [
    {
     "data": {
      "text/html": [
       "<div>\n",
       "<style scoped>\n",
       "    .dataframe tbody tr th:only-of-type {\n",
       "        vertical-align: middle;\n",
       "    }\n",
       "\n",
       "    .dataframe tbody tr th {\n",
       "        vertical-align: top;\n",
       "    }\n",
       "\n",
       "    .dataframe thead th {\n",
       "        text-align: right;\n",
       "    }\n",
       "</style>\n",
       "<table border=\"1\" class=\"dataframe\">\n",
       "  <thead>\n",
       "    <tr style=\"text-align: right;\">\n",
       "      <th></th>\n",
       "      <th>title</th>\n",
       "    </tr>\n",
       "  </thead>\n",
       "  <tbody>\n",
       "    <tr>\n",
       "      <th>1</th>\n",
       "      <td>Super Mario Bros. (1993)</td>\n",
       "    </tr>\n",
       "    <tr>\n",
       "      <th>2</th>\n",
       "      <td>One, The (2001)</td>\n",
       "    </tr>\n",
       "    <tr>\n",
       "      <th>3</th>\n",
       "      <td>Cradle 2 the Grave (2003)</td>\n",
       "    </tr>\n",
       "    <tr>\n",
       "      <th>4</th>\n",
       "      <td>Vampires (1998)</td>\n",
       "    </tr>\n",
       "    <tr>\n",
       "      <th>5</th>\n",
       "      <td>Mortal Kombat: Annihilation (1997)</td>\n",
       "    </tr>\n",
       "    <tr>\n",
       "      <th>6</th>\n",
       "      <td>Jerky Boys, The (1995)</td>\n",
       "    </tr>\n",
       "    <tr>\n",
       "      <th>7</th>\n",
       "      <td>Batman: Under the Red Hood (2010)</td>\n",
       "    </tr>\n",
       "    <tr>\n",
       "      <th>8</th>\n",
       "      <td>Batman Beyond: Return of the Joker (2000)</td>\n",
       "    </tr>\n",
       "    <tr>\n",
       "      <th>9</th>\n",
       "      <td>Fast and the Furious: Tokyo Drift, The (Fast a...</td>\n",
       "    </tr>\n",
       "    <tr>\n",
       "      <th>10</th>\n",
       "      <td>Bride of Chucky (Child's Play 4) (1998)</td>\n",
       "    </tr>\n",
       "    <tr>\n",
       "      <th>11</th>\n",
       "      <td>Paulie (1998)</td>\n",
       "    </tr>\n",
       "    <tr>\n",
       "      <th>12</th>\n",
       "      <td>Tremors II: Aftershocks (1996)</td>\n",
       "    </tr>\n",
       "    <tr>\n",
       "      <th>13</th>\n",
       "      <td>Walking Tall (2004)</td>\n",
       "    </tr>\n",
       "    <tr>\n",
       "      <th>14</th>\n",
       "      <td>Sleepaway Camp (1983)</td>\n",
       "    </tr>\n",
       "    <tr>\n",
       "      <th>15</th>\n",
       "      <td>Don't Say a Word (2001)</td>\n",
       "    </tr>\n",
       "  </tbody>\n",
       "</table>\n",
       "</div>"
      ],
      "text/plain": [
       "                                                title\n",
       "1                            Super Mario Bros. (1993)\n",
       "2                                     One, The (2001)\n",
       "3                           Cradle 2 the Grave (2003)\n",
       "4                                     Vampires (1998)\n",
       "5                  Mortal Kombat: Annihilation (1997)\n",
       "6                              Jerky Boys, The (1995)\n",
       "7                   Batman: Under the Red Hood (2010)\n",
       "8           Batman Beyond: Return of the Joker (2000)\n",
       "9   Fast and the Furious: Tokyo Drift, The (Fast a...\n",
       "10            Bride of Chucky (Child's Play 4) (1998)\n",
       "11                                      Paulie (1998)\n",
       "12                     Tremors II: Aftershocks (1996)\n",
       "13                                Walking Tall (2004)\n",
       "14                              Sleepaway Camp (1983)\n",
       "15                            Don't Say a Word (2001)"
      ]
     },
     "execution_count": 33,
     "metadata": {},
     "output_type": "execute_result"
    }
   ],
   "source": [
    "findNN(44, buildNN('euclidean'))"
   ]
  },
  {
   "cell_type": "markdown",
   "id": "08f8dbf6-fb6a-4258-a499-05a07c74bd62",
   "metadata": {},
   "source": [
    "**Perfect completion** to this point is a 90.  For the A, now copy your above code, and alter it to do **(at least)** **one of two things.**  One is to use the genres and tags in some way to try and meaningfully improve your recommendations. The other is to scale up to the [25M Dataset under the \"recommended for new research\" heading](https://grouplens.org/datasets/movielens/).  You will need some time for this to run.  Out of respect for your own time, you will want to run `.fit()` as few times as possible.  **You'll need to do this on `ssh.cs.usna.edu`, your lab machines won't have enough memory**.\n",
    "\n",
    "In either case, qualitatively compare your results to your previous product."
   ]
  },
  {
   "cell_type": "code",
   "execution_count": null,
   "id": "67398cb0-af4f-4ac0-b05b-fbc499981f97",
   "metadata": {},
   "outputs": [],
   "source": []
  }
 ],
 "metadata": {
  "kernelspec": {
   "display_name": "Python 3 (ipykernel)",
   "language": "python",
   "name": "python3"
  },
  "language_info": {
   "codemirror_mode": {
    "name": "ipython",
    "version": 3
   },
   "file_extension": ".py",
   "mimetype": "text/x-python",
   "name": "python",
   "nbconvert_exporter": "python",
   "pygments_lexer": "ipython3",
   "version": "3.12.3"
  }
 },
 "nbformat": 4,
 "nbformat_minor": 5
}
