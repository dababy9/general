{
 "cells": [
  {
   "cell_type": "code",
   "execution_count": 14,
   "id": "713f35b2-c85a-482c-b35d-31e40a60f18a",
   "metadata": {},
   "outputs": [],
   "source": [
    "import pandas as pd\n",
    "import numpy as np\n",
    "from sklearn.neighbors import NearestNeighbors"
   ]
  },
  {
   "cell_type": "markdown",
   "id": "b067f6cc-f2d5-4e97-a712-46b06e96c184",
   "metadata": {},
   "source": [
    "# Movie Recommendations from k-Nearest Neighbors\n",
    "\n",
    "We're going to create a movie recommendation system that will recommend a movie similar to an input movie.  In other words, perhaps a person just finished watching the horror movie \"Saw.\"  We're going to assume they liked it, and recommend another movie like \"Saw\" by using only user ratings (we'll consider the user's actual preferences and previous movie ratings in a later project).\n",
    "\n",
    "Start by making a numpy matrix where the row is the user's ID and the column is the movie's ID, and the contents are the rating entered by that user and stored in your dataset's `ratings.csv`.\n",
    "\n",
    "Most users have not seen most movies, so there are many blanks.  Decide what to fill them in with, and explain in a markdown cell what you chose.  You may use generative AI in this portion."
   ]
  },
  {
   "cell_type": "code",
   "execution_count": 15,
   "id": "88d7d2cf-b338-412b-b216-437e46fa4522",
   "metadata": {},
   "outputs": [],
   "source": [
    "# filepath to the datasets for this lab\n",
    "filepath = \"datasets/ml-latest-small/\"\n",
    "\n",
    "# read csv (pivot function from ChatGPT\n",
    "ratings = pd.read_csv(filepath + \"ratings.csv\").pivot(index='userId', columns='movieId', values='rating').fillna(2.5)"
   ]
  },
  {
   "cell_type": "markdown",
   "id": "b34b2bd0-674d-4ce3-87e3-7d58218ce5fd",
   "metadata": {},
   "source": [
    "I decided to use `2.5` when filling in the blanks. I figured that by choosing the exact halfway rating, I could best represent the fact that the user has not seen the movie at all (and thus neither likes nor dislikes it at all)."
   ]
  },
  {
   "cell_type": "markdown",
   "id": "8bcc9eb8-0bf7-4af9-936b-a4d7c696a486",
   "metadata": {},
   "source": [
    "Now we need to read in `movies.csv`, so we can map movie IDs to titles.  Using your data structures knowledge, decide how to store this information so your lookup is quick.  Be aware that there are movieIDs missing (for example, there is no movie 33).  You may **not** use generative AI for this portion or anywhere later on this assignment until future notice."
   ]
  },
  {
   "cell_type": "code",
   "execution_count": 16,
   "id": "148ff629-cb5c-4ab0-9c2f-cc230ea273ce",
   "metadata": {},
   "outputs": [],
   "source": [
    "movies = pd.read_csv(filepath + \"movies.csv\").set_index('movieId').drop(columns=['genres'])"
   ]
  },
  {
   "cell_type": "markdown",
   "id": "ad0f8c64-8e24-4044-bf1f-2a158f4407ef",
   "metadata": {},
   "source": [
    "Naturally, [sklearn has a handy object for nearest neighbors](https://scikit-learn.org/stable/modules/generated/sklearn.neighbors.NearestNeighbors.html).  Write a function which accepts a distance metric as an argument and builds a NearestNeighbors object, runs it to calculate the 15 movies most similar to any given movie using that metric, and returns that object."
   ]
  },
  {
   "cell_type": "code",
   "execution_count": 18,
   "id": "fd39cde1-4806-4cef-af52-bff0e361c547",
   "metadata": {},
   "outputs": [],
   "source": [
    "def findNN(distMetric):\n",
    "    result = NearestNeighbors(n_neighbors=15, metric=distMetric)\n",
    "    return result"
   ]
  },
  {
   "cell_type": "markdown",
   "id": "b6c58d91-41bb-4a49-8559-effed4b8c47b",
   "metadata": {},
   "source": [
    "Make a function that accepts a movieID and NearestNeighbors object and returns the names of the 15 movies most similar to that movieID."
   ]
  },
  {
   "cell_type": "code",
   "execution_count": null,
   "id": "907c8cfa-824e-4722-b472-5aa7c1d14267",
   "metadata": {},
   "outputs": [],
   "source": []
  },
  {
   "cell_type": "markdown",
   "id": "1049e918-b33b-4ab1-a50c-62c18695cf34",
   "metadata": {},
   "source": [
    "Horror movies usually do very well with this approach.  Try it on Saw using euclidean distance, and make sure the answers make sense."
   ]
  },
  {
   "cell_type": "code",
   "execution_count": null,
   "id": "ac6686e2-2a00-4171-9bec-69b608e43eca",
   "metadata": {},
   "outputs": [],
   "source": []
  },
  {
   "cell_type": "markdown",
   "id": "ffbb1ea2-65a4-4f5c-ab62-cbd06e882a4a",
   "metadata": {},
   "source": [
    "Now, for analysis.  Choose five movies of different genres, and try your approach.  Run it with 1) **different distance metrics** and 2) **different techniques for filling in blank spaces**.  Qualitatively explain which recommendations make the most sense to you, and which combination of filled-in-blanks and distance metrics you would actually deploy."
   ]
  },
  {
   "cell_type": "code",
   "execution_count": null,
   "id": "64d5224f-2eee-421f-8689-30a7606f75ee",
   "metadata": {},
   "outputs": [],
   "source": []
  },
  {
   "cell_type": "markdown",
   "id": "08f8dbf6-fb6a-4258-a499-05a07c74bd62",
   "metadata": {},
   "source": [
    "**Perfect completion** to this point is a 90.  For the A, now copy your above code, and alter it to do **(at least)** **one of two things.**  One is to use the genres and tags in some way to try and meaningfully improve your recommendations. The other is to scale up to the [25M Dataset under the \"recommended for new research\" heading](https://grouplens.org/datasets/movielens/).  You will need some time for this to run.  Out of respect for your own time, you will want to run `.fit()` as few times as possible.  **You'll need to do this on `ssh.cs.usna.edu`, your lab machines won't have enough memory**.\n",
    "\n",
    "In either case, qualitatively compare your results to your previous product."
   ]
  },
  {
   "cell_type": "code",
   "execution_count": null,
   "id": "67398cb0-af4f-4ac0-b05b-fbc499981f97",
   "metadata": {},
   "outputs": [],
   "source": []
  }
 ],
 "metadata": {
  "kernelspec": {
   "display_name": "Python 3 (ipykernel)",
   "language": "python",
   "name": "python3"
  },
  "language_info": {
   "codemirror_mode": {
    "name": "ipython",
    "version": 3
   },
   "file_extension": ".py",
   "mimetype": "text/x-python",
   "name": "python",
   "nbconvert_exporter": "python",
   "pygments_lexer": "ipython3",
   "version": "3.12.3"
  }
 },
 "nbformat": 4,
 "nbformat_minor": 5
}
