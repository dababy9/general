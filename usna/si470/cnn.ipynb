{
 "cells": [
  {
   "cell_type": "markdown",
   "id": "f6307c98-ad3b-4f67-8f05-3fd9d221bb31",
   "metadata": {},
   "source": [
    "# Programming your own convolutional network\n",
    "\n",
    "Today's lab will use a common dataset called [CIFAR10](https://www.cs.toronto.edu/~kriz/cifar.html) to let us practice making a convolutional neural network for classification.  This dataset consists of 60,000 32x32 color pictures, each of which map to one of ten classes.  To do this, we'll use Pytorch's built-in CIFAR10 Dataset, so we won't need to program our own.\n",
    "\n",
    "The two cells below handle imports, and then build the training and testing Datasets.  The first time you run these, it will actually download the data for you.  Notice there are some transformations listed - you're welcome to add to these (and perhaps should), but you'll need at least these, which turn the image file into a Pytorch Image, and then convert them to 32-bit floats.\n",
    "\n",
    "The end of the second cell prints out the labels, just so we can see it's working."
   ]
  },
  {
   "cell_type": "code",
   "execution_count": 65,
   "id": "8ac053f1-1f2a-484d-a73d-a49f08ac9953",
   "metadata": {},
   "outputs": [],
   "source": [
    "import numpy as np\n",
    "import plotly.graph_objects as go\n",
    "import matplotlib.pyplot as plt\n",
    "from sklearn.metrics import confusion_matrix\n",
    "import warnings\n",
    "warnings.filterwarnings('ignore')\n",
    "\n",
    "import torch\n",
    "import torch.nn as nn\n",
    "import torch.optim as optim\n",
    "from torchvision.transforms import v2\n",
    "from torchvision.datasets import CIFAR10\n",
    "from torch.utils.data import DataLoader"
   ]
  },
  {
   "cell_type": "code",
   "execution_count": 86,
   "id": "30a26c08-3a10-467e-9bad-16514ea78e40",
   "metadata": {},
   "outputs": [
    {
     "name": "stdout",
     "output_type": "stream",
     "text": [
      "Files already downloaded and verified\n"
     ]
    }
   ],
   "source": [
    "# prepare training transform (uses random horizontal flips and random rotations for data augmentation)\n",
    "train_transforms = v2.Compose([\n",
    "    v2.ToImage(),\n",
    "    v2.RandomHorizontalFlip(p=0.5),\n",
    "    v2.RandomRotation(degrees=15),\n",
    "    v2.ToDtype(torch.float32, scale=True)\n",
    "])\n",
    "\n",
    "# prepare testing transforms (no data augmentation)\n",
    "test_transforms = v2.Compose([\n",
    "    v2.ToImage(),\n",
    "    v2.ToDtype(torch.float32, scale=True)\n",
    "])\n",
    "\n",
    "# load datasets with transforms\n",
    "trainSet = CIFAR10('./datasets', train=True, transform=train_transforms, download=True)\n",
    "testSet = CIFAR10('./datasets', train=False, transform=test_transforms)"
   ]
  },
  {
   "cell_type": "code",
   "execution_count": 68,
   "id": "45ae30f6-b9f3-4fa0-bcf9-64a051e1e575",
   "metadata": {},
   "outputs": [],
   "source": [
    "# create dataloaders for grabbing batches one at a time\n",
    "trainLoader = DataLoader(trainSet, batch_size=100, shuffle=True, num_workers=4)\n",
    "testLoader = DataLoader(testSet, batch_size=100, shuffle=False, num_workers=4)"
   ]
  },
  {
   "cell_type": "code",
   "execution_count": 69,
   "id": "29279e93-daae-4550-844c-3201364559e1",
   "metadata": {},
   "outputs": [],
   "source": [
    "# trains the given model on the CIFAR10 dataset\n",
    "# model = the model that should be trained\n",
    "# lr = learning rate\n",
    "# epochs = number of epochs to perform\n",
    "# criterion = loss function to train with\n",
    "def trainModel(model, lr, epochs, criterion):\n",
    "\n",
    "    # move model to GPU\n",
    "    model = model.to('cuda')\n",
    "\n",
    "    # define optimizer function to be Adam (with given learning rate)\n",
    "    optimizer = optim.Adam(model.parameters(), lr=lr)\n",
    "\n",
    "    # keep track of best testing loss to always save best model\n",
    "    best_test_loss = -1\n",
    "\n",
    "    # loop through all epochs\n",
    "    for epoch in range(epochs):\n",
    "\n",
    "        # define total loss for all batches\n",
    "        total_loss = 0\n",
    "\n",
    "        # loop through all batches in training set\n",
    "        for X, y in trainLoader:\n",
    "\n",
    "            # move images and correct labels to GPU\n",
    "            X = X.to('cuda')\n",
    "            y = y.to('cuda')\n",
    "\n",
    "            # get predictions from model\n",
    "            predictions = model(X)\n",
    "\n",
    "            # calculate loss of model\n",
    "            loss = criterion(predictions, y)\n",
    "\n",
    "            # use Adam to adjust weights\n",
    "            optimizer.zero_grad()\n",
    "            loss.backward()\n",
    "            optimizer.step()\n",
    "\n",
    "            # update total loss\n",
    "            total_loss += loss.item()\n",
    "\n",
    "        # calculate testing loss\n",
    "        test_loss = 0\n",
    "        with torch.no_grad():\n",
    "\n",
    "            # loop through testing batches\n",
    "            for X, y in testLoader:\n",
    "\n",
    "                # move images and correct labels to GPU\n",
    "                X = X.to('cuda')\n",
    "                y = y.to('cuda')\n",
    "\n",
    "                # get predictions from model\n",
    "                pred = model(X)\n",
    "                \n",
    "                # update testing loss\n",
    "                test_loss += criterion(pred, y).item()\n",
    "\n",
    "            # get final testing loss\n",
    "            test_loss /= len(testLoader)\n",
    "\n",
    "            # save model if it achieved a better testing loss than previous best\n",
    "            if test_loss < best_test_loss or best_test_loss == -1:\n",
    "                torch.save(model, 'bestModel')\n",
    "                best_test_loss = test_loss\n",
    "\n",
    "    # return best model\n",
    "    return torch.load('bestModel')"
   ]
  },
  {
   "cell_type": "markdown",
   "id": "d8857d3c-897d-44cf-91a9-049c4659096e",
   "metadata": {},
   "source": [
    "For creating the following model, I found [this](http://rodrigob.github.io/are_we_there_yet/build/classification_datasets_results.html#43494641522d3130) page and took a look at [this](http://arxiv.org/pdf/1412.6806) research paper. I learned about replacing pooling layers of 2 with kernels of stride 2 as well as the Global Average Pooling. I then created the neural network with these structural design choices in mind (with some help from ChatGPT on how to implement them). I started with two convolutional layers per sequence, in a more similar manner to the exact proposed design used in the paper. However, with 3 overall layers, that design ended up being quite awful. It only achieved a testing accuracy of 0.1, and I figured it was due to the overly complex nature of the model. Thus, I decided to only use one convolutional layer per sequence, which ended up being the best choice - this is the final model, with a testing accuracy of 0.81."
   ]
  },
  {
   "cell_type": "code",
   "execution_count": 70,
   "id": "613e1e13-38db-4eeb-a751-c8ea178e8076",
   "metadata": {},
   "outputs": [],
   "source": [
    "# define the convolutional neural network\n",
    "class CNN(nn.Module):\n",
    "\n",
    "    # define the layers\n",
    "    def __init__(self):\n",
    "        super(CNN, self).__init__()\n",
    "\n",
    "        # first (convolutional) layer\n",
    "        self.conv1 = nn.Sequential( # input: 3x32x32\n",
    "            nn.Conv2d(3, 32, 3, 1, 1),\n",
    "            #nn.Conv2d(32, 32, 3, 1, 1),\n",
    "            nn.ReLU(),\n",
    "            nn.Conv2d(32, 32, 3, 2, 0)\n",
    "        ) # output: 32x16x16\n",
    "\n",
    "        # second (convolutional) layer\n",
    "        self.conv2 = nn.Sequential( # input: 32x16x16\n",
    "            nn.Conv2d(32, 64, 3, 1, 1),\n",
    "            #nn.Conv2d(64, 64, 3, 1, 1),\n",
    "            nn.ReLU(),\n",
    "            nn.Conv2d(64, 64, 3, 2, 0),\n",
    "        ) # output: 64x8x8\n",
    "\n",
    "        # third (convolutional) layer\n",
    "        self.conv3 = nn.Sequential( # input: 64x8x8\n",
    "            nn.Conv2d(64, 128, 3, 1, 1),\n",
    "            #nn.Conv2d(128, 128, 3, 1, 1),\n",
    "            nn.ReLU(),\n",
    "            nn.Conv2d(128, 128, 3, 2, 0),\n",
    "        ) # output: 128x4x4\n",
    "\n",
    "        # global average pooling layer\n",
    "        self.gap = nn.AdaptiveAvgPool2d((1, 1))\n",
    "\n",
    "        # linear layer with 128 inputs (from GAP layer) and 10 outputs (for each class)\n",
    "        self.fc = nn.Linear(128, 10)\n",
    "\n",
    "    # define forward pass with all layers applied sequentially\n",
    "    def forward(self, x):\n",
    "        x = self.conv1(x)\n",
    "        x = self.conv2(x)\n",
    "        x = self.conv3(x)\n",
    "        x = self.gap(x)\n",
    "        x = x.view(x.size(0), -1)\n",
    "        x = self.fc(x)\n",
    "        return x"
   ]
  },
  {
   "cell_type": "code",
   "execution_count": 71,
   "id": "1a42e951-08c0-4bac-9e66-589bf07c3437",
   "metadata": {},
   "outputs": [],
   "source": [
    "# train CNN\n",
    "finalModel = trainModel(CNN(), 0.001, 100, nn.CrossEntropyLoss())"
   ]
  },
  {
   "cell_type": "code",
   "execution_count": 72,
   "id": "e4fc1e0a-b43d-476f-a055-513ecfc2b106",
   "metadata": {},
   "outputs": [],
   "source": [
    "# retrieve accuracy (percentages) for training and testing data using a given model\n",
    "# model = given model\n",
    "# data = dataloader of data\n",
    "def getAccuracy(model, data):\n",
    "\n",
    "    # counters for final calculation\n",
    "    total = correct = 0\n",
    "\n",
    "    # set the model to evaluation mode\n",
    "    model.eval()\n",
    "\n",
    "    # test model without any gradient calculations\n",
    "    with torch.no_grad():\n",
    "\n",
    "        # loop through dataloader\n",
    "        for X, y in data:\n",
    "\n",
    "            # move images and correct labels to GPU\n",
    "            X = X.to('cuda')\n",
    "            y = y.to('cuda')\n",
    "\n",
    "            # get predictions from model\n",
    "            preds = torch.max(model(X), 1)[1]\n",
    "\n",
    "            # update counters\n",
    "            total += y.size(0)\n",
    "            correct += (preds == y).sum().item()\n",
    "\n",
    "    # return accuracy\n",
    "    return correct/total"
   ]
  },
  {
   "cell_type": "code",
   "execution_count": 73,
   "id": "4f80d244-6ecf-46ad-a396-9481ebc8e181",
   "metadata": {},
   "outputs": [
    {
     "name": "stdout",
     "output_type": "stream",
     "text": [
      "Testing Accuracy: 0.8103\n"
     ]
    }
   ],
   "source": [
    "# print accuracy for base model\n",
    "print(f'Testing Accuracy: {getAccuracy(finalModel, testLoader)}')"
   ]
  },
  {
   "cell_type": "markdown",
   "id": "8d1fc2bd-731f-4905-ae7f-4ab5ce2782c8",
   "metadata": {},
   "source": [
    "At this point, I felt that the network itself was fairly robust. However, doing some hyperparameter search couldn't hurt. So, I just tested various (quasi-)logarithmic values of the learning rate, and kept track of the testing error after running through **100** epochs for each value."
   ]
  },
  {
   "cell_type": "code",
   "execution_count": 80,
   "id": "0fa8793c-f14e-4075-b3bf-2ff9d61e9a51",
   "metadata": {},
   "outputs": [],
   "source": [
    "# plot testing accuracy for given learning rates\n",
    "# returns list of models for each learning rate\n",
    "def testLR(values, epochs):\n",
    "    \n",
    "    # lists to store accuracies and models\n",
    "    accuracies = []\n",
    "    models = []\n",
    "\n",
    "    # loop through all learning rates\n",
    "    for lr in values:\n",
    "\n",
    "        # get the trained model\n",
    "        bestModel = trainModel(CNN(), lr, epochs, nn.CrossEntropyLoss())\n",
    "\n",
    "        # add it to the list\n",
    "        models.append(bestModel)\n",
    "\n",
    "        # get accuracy and add to list\n",
    "        accuracies.append(getAccuracy(bestModel, testLoader))\n",
    "\n",
    "    # plot learning rate vs accuracy\n",
    "    plt.plot(values, accuracies)\n",
    "    plt.xscale(\"log\")\n",
    "    plt.xlabel(\"Learning Rate\")\n",
    "    plt.ylabel(\"Testing Accuracy\")\n",
    "    plt.show()\n",
    "\n",
    "    # return models\n",
    "    return models"
   ]
  },
  {
   "cell_type": "code",
   "execution_count": 82,
   "id": "0198459b-9100-4ad6-892b-8c50b3ed49bf",
   "metadata": {},
   "outputs": [
    {
     "data": {
      "image/png": "[encoded data removed]",
      "text/plain": [
       "<Figure size 640x480 with 1 Axes>"
      ]
     },
     "metadata": {},
     "output_type": "display_data"
    }
   ],
   "source": [
    "# test logarithmic learning rates, plot results and save all models to list\n",
    "logModels = testLR([0.00001, 0.00005, 0.0001, 0.0005, 0.001, 0.005, 0.01, 0.05], 100)"
   ]
  },
  {
   "cell_type": "markdown",
   "id": "5eccfa7c-2ae0-4b2c-9381-9f59fac4d5b3",
   "metadata": {},
   "source": [
    "Based on this test, a learning rate between `0.0005` and `0.001` seems to be the sweet spot, so now I will test values between those two learning rates to dial in on a specifically apt value to use."
   ]
  },
  {
   "cell_type": "code",
   "execution_count": 83,
   "id": "15630e92-4d7a-408b-b5f4-fc10ad3b3445",
   "metadata": {},
   "outputs": [
    {
     "data": {
      "image/png": "[encoded data removed]",
      "text/plain": [
       "<Figure size 640x480 with 1 Axes>"
      ]
     },
     "metadata": {},
     "output_type": "display_data"
    }
   ],
   "source": [
    "# test learning rates between 0.0005 and 0.001, plot results and save all models to list\n",
    "linModels = testLR([0.0005, 0.0006, 0.0007, 0.0008, 0.0009, 0.001], 100)"
   ]
  },
  {
   "cell_type": "markdown",
   "id": "f109feeb-e266-456a-b544-d3d289459102",
   "metadata": {},
   "source": [
    "Looks like `0.0007` yielded the best testing accuracy, at just below 0.822. I will go ahead and save that model and conclude the lab with that as my final product."
   ]
  },
  {
   "cell_type": "code",
   "execution_count": 84,
   "id": "31310355-42eb-4098-9d1b-9d7fdaa5007b",
   "metadata": {},
   "outputs": [
    {
     "name": "stdout",
     "output_type": "stream",
     "text": [
      "0.8214\n"
     ]
    }
   ],
   "source": [
    "# save the best model (lr of 0.0007)\n",
    "finalModel = linModels[2]\n",
    "\n",
    "# make sure the testing accuracy is still correct\n",
    "print(getAccuracy(finalModel, testLoader))"
   ]
  },
  {
   "cell_type": "code",
   "execution_count": 85,
   "id": "2e27ffc9-1be8-4b24-91a6-b69cebca4892",
   "metadata": {},
   "outputs": [],
   "source": [
    "# save the model to the drive\n",
    "torch.save(finalModel, 'finalModel')"
   ]
  },
  {
   "cell_type": "code",
   "execution_count": null,
   "id": "20ec3668-947c-4ade-a6b5-a8d7f1768c3b",
   "metadata": {},
   "outputs": [],
   "source": []
  }
 ],
 "metadata": {
  "kernelspec": {
   "display_name": "Python 3 (ipykernel)",
   "language": "python",
   "name": "python3"
  },
  "language_info": {
   "codemirror_mode": {
    "name": "ipython",
    "version": 3
   },
   "file_extension": ".py",
   "mimetype": "text/x-python",
   "name": "python",
   "nbconvert_exporter": "python",
   "pygments_lexer": "ipython3",
   "version": "3.12.3"
  }
 },
 "nbformat": 4,
 "nbformat_minor": 5
}
