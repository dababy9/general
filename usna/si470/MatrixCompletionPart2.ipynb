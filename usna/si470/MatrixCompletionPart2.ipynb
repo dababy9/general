{
 "cells": [
  {
   "cell_type": "code",
   "execution_count": 1,
   "id": "2a2a2f3a-4289-4aa9-9f75-f459784db4c5",
   "metadata": {
    "tags": []
   },
   "outputs": [],
   "source": [
    "import pandas as pd\n",
    "import numpy as np\n",
    "import matplotlib.pyplot as plt\n",
    "from sklearn.model_selection import train_test_split\n",
    "from copy import deepcopy"
   ]
  },
  {
   "cell_type": "code",
   "execution_count": 2,
   "id": "4ccfd2b3-e434-44a1-bee2-1300893471ed",
   "metadata": {
    "tags": []
   },
   "outputs": [],
   "source": [
    "df = pd.read_csv('datasets/ml-latest-small/ratings.csv')\n",
    "# create dataframe with movieId as rows and userId as columns (using pivot function from ChatGPT)\n",
    "ratings = df.pivot(index='userId', columns='movieId', values='rating').dropna(thresh=25).dropna(axis='columns', thresh=4)\n",
    "ratingsMatrix = ratings.values"
   ]
  },
  {
   "cell_type": "code",
   "execution_count": 3,
   "id": "90713eb3-6d20-4b9a-b933-a0d1f38c25f4",
   "metadata": {
    "tags": []
   },
   "outputs": [],
   "source": [
    "def findRatings(mat):\n",
    "    indeces = []\n",
    "    numRows, numCols = mat.shape\n",
    "    for row in range(numRows):\n",
    "        for col in range(numCols):\n",
    "            if not np.isnan(mat[row][col]):\n",
    "                indeces.append((row, col))\n",
    "    return indeces"
   ]
  },
  {
   "cell_type": "code",
   "execution_count": 4,
   "id": "f8357a55-cb9d-4b91-8860-f3408941604c",
   "metadata": {
    "tags": []
   },
   "outputs": [],
   "source": [
    "totalIndeces = findRatings(ratingsMatrix)\n",
    "train, test = train_test_split(totalIndeces, test_size=0.1)"
   ]
  },
  {
   "cell_type": "code",
   "execution_count": 5,
   "id": "7d8f6a09-3ace-4779-90d6-9318283d26a7",
   "metadata": {
    "tags": []
   },
   "outputs": [],
   "source": [
    "def rmse(org, rep, indeces):\n",
    "    sum = 0\n",
    "    for row, col in indeces:\n",
    "        diff = org[row][col] - rep[row][col]\n",
    "        sum += diff * diff\n",
    "    return np.sqrt(sum/len(indeces))"
   ]
  },
  {
   "cell_type": "code",
   "execution_count": 6,
   "id": "68a75fd2-0a3a-49da-8648-ff425124c27f",
   "metadata": {
    "tags": []
   },
   "outputs": [],
   "source": [
    "# returns (P, Q)\n",
    "def createPQ(dimension, rank):\n",
    "    return (np.square(np.random.rand(dimension[0], rank)-0.5), np.square(np.random.rand(rank, dimension[1])-0.5))\n",
    "\n",
    "P, Q = createPQ(ratingsMatrix.shape, 10)"
   ]
  },
  {
   "cell_type": "code",
   "execution_count": 7,
   "id": "d85b5ed5-3f1a-4597-b31b-0487335b9ebf",
   "metadata": {
    "tags": []
   },
   "outputs": [],
   "source": [
    "# returns (P, Q, training error, testing error)\n",
    "def epoch(original, fP, fQ, a, fTrain, fTest):\n",
    "\n",
    "    # train on elements from training set\n",
    "    fQ = fQ.T\n",
    "    for i, j in fTrain:\n",
    "        alphaGradient = (original[i][j] - np.dot(fP[i], fQ[j]))*a\n",
    "        fP[i], fQ[j] = fP[i] + fQ[j]*alphaGradient, fQ[j] + fP[i]*alphaGradient\n",
    "    fQ = fQ.T\n",
    "\n",
    "    # return P, Q, training error and testing error\n",
    "    reconstruction = fP @ fQ\n",
    "    return (fP, fQ, rmse(original, reconstruction, fTrain), rmse(original, reconstruction, fTest))"
   ]
  },
  {
   "cell_type": "code",
   "execution_count": 8,
   "id": "40bc78fb-4f25-4903-8c86-85e9b0bd6026",
   "metadata": {
    "tags": []
   },
   "outputs": [],
   "source": [
    "def matrixCompletion(original, fP, fQ, rank, stepSize, numEpochs):\n",
    "\n",
    "    # run matrix completion, keep track of error\n",
    "    trainErrors, testErrors = [], []\n",
    "    for i in range(numEpochs):\n",
    "        fP, fQ, trainE, testE = epoch(original, fP, fQ, stepSize, train, test)\n",
    "        trainErrors.append(trainE)\n",
    "        testErrors.append(testE)\n",
    "\n",
    "    # plot error\n",
    "    plt.plot(range(len(trainErrors)), trainErrors, label='Training Error')\n",
    "    plt.plot(range(len(testErrors)), testErrors, label='Testing Error')\n",
    "    plt.xlabel('Epoch')\n",
    "    plt.ylabel('Error')\n",
    "    plt.legend()\n",
    "    plt.show()\n",
    "\n",
    "    return (fP, fQ)"
   ]
  },
  {
   "cell_type": "code",
   "execution_count": 9,
   "id": "69419506-0a78-4a91-b946-3d1016d90433",
   "metadata": {},
   "outputs": [
    {
     "data": {
      "image/png": "[encoded data removed]",
      "text/plain": [
       "<Figure size 640x480 with 1 Axes>"
      ]
     },
     "metadata": {},
     "output_type": "display_data"
    }
   ],
   "source": [
    "# perform matrix completion\n",
    "newP, newQ = matrixCompletion(ratingsMatrix, deepcopy(P), deepcopy(Q), 10, 0.001, 100)"
   ]
  },
  {
   "cell_type": "code",
   "execution_count": 10,
   "id": "ee9944b8-c42d-49d0-aa4e-69cd5360c5ef",
   "metadata": {},
   "outputs": [],
   "source": [
    "# read in movies.csv to map movieIDs to movie names\n",
    "df = pd.read_csv('datasets/ml-latest-small/movies.csv').set_index('movieId')"
   ]
  },
  {
   "cell_type": "code",
   "execution_count": 11,
   "id": "b9335c6f-41d9-4c6c-9961-665035ee9308",
   "metadata": {},
   "outputs": [],
   "source": [
    "# reconstructed matrix\n",
    "newMatrix = newP @ newQ\n",
    "\n",
    "# using 'argpartition' to get top n indeces from stack overflow: https://stackoverflow.com/questions/6910641/how-do-i-get-indices-of-n-maximum-values-in-a-numpy-array\n",
    "# get top 20 movies according to new matrix with completed values (UNSORTED)\n",
    "myRow = newMatrix[newMatrix.shape[0]-1]\n",
    "top20 = df.loc[ratings.columns[np.argpartition(myRow, -20)[-20:]]]['title']"
   ]
  },
  {
   "cell_type": "code",
   "execution_count": 12,
   "id": "e9935368-d406-4326-ab64-9f7a4ffc45db",
   "metadata": {},
   "outputs": [
    {
     "name": "stdout",
     "output_type": "stream",
     "text": [
      "Sanjuro (Tsubaki Sanjûrô) (1962)\n",
      "Last Tango in Paris (Ultimo tango a Parigi) (1972)\n",
      "Sophie Scholl: The Final Days (Sophie Scholl - Die letzten Tage) (2005)\n",
      "Streetcar Named Desire, A (1951)\n",
      "Babette's Feast (Babettes gæstebud) (1987)\n",
      "Black Mirror: White Christmas (2014)\n",
      "Gallipoli (1981)\n",
      "Fight Club (1999)\n",
      "His Girl Friday (1940)\n",
      "Lifeboat (1944)\n",
      "Woman in the Dunes (Suna no onna) (1964)\n",
      "Jules and Jim (Jules et Jim) (1961)\n",
      "Swept Away (Travolti da un insolito destino nell'azzurro mare d'Agosto) (1975)\n",
      "Trial, The (Procès, Le) (1962)\n",
      "Neon Genesis Evangelion: The End of Evangelion (Shin seiki Evangelion Gekijô-ban: Air/Magokoro wo, kimi ni) (1997)\n",
      "Guess Who's Coming to Dinner (1967)\n",
      "Discreet Charm of the Bourgeoisie, The (Charme discret de la bourgeoisie, Le) (1972)\n",
      "Man Bites Dog (C'est arrivé près de chez vous) (1992)\n",
      "Captain Fantastic (2016)\n",
      "Three Billboards Outside Ebbing, Missouri (2017)\n"
     ]
    }
   ],
   "source": [
    "for title in top20.values:\n",
    "    print(title)"
   ]
  }
 ],
 "metadata": {
  "kernelspec": {
   "display_name": "Python 3 (ipykernel)",
   "language": "python",
   "name": "python3"
  },
  "language_info": {
   "codemirror_mode": {
    "name": "ipython",
    "version": 3
   },
   "file_extension": ".py",
   "mimetype": "text/x-python",
   "name": "python",
   "nbconvert_exporter": "python",
   "pygments_lexer": "ipython3",
   "version": "3.12.3"
  }
 },
 "nbformat": 4,
 "nbformat_minor": 5
}
