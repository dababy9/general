{
 "cells": [
  {
   "cell_type": "code",
   "execution_count": 11,
   "id": "cc408ed0-bb8b-44d9-9299-3cdae7a0187f",
   "metadata": {},
   "outputs": [],
   "source": [
    "# import a few packages/libraries\n",
    "import numpy as np\n",
    "import pandas as pd\n",
    "import matplotlib.pyplot as plt\n",
    "import torch\n",
    "import torch.nn as nn\n",
    "import torch.optim as optim\n",
    "from sklearn.model_selection import train_test_split"
   ]
  },
  {
   "cell_type": "code",
   "execution_count": 9,
   "id": "b549a908-98e9-46fc-ab38-65ac9c39a0d9",
   "metadata": {},
   "outputs": [],
   "source": [
    "# read in datasets\n",
    "red = pd.read_csv(\"datasets/winequality-red.csv\", sep=';')\n",
    "white = pd.read_csv(\"datasets/winequality-white.csv\", sep=';')"
   ]
  },
  {
   "cell_type": "code",
   "execution_count": 19,
   "id": "0ebfd353-faf6-4cf1-88a0-2dcf1a1b20a3",
   "metadata": {},
   "outputs": [],
   "source": [
    "# split into training and testing sets\n",
    "red_train, red_test = train_test_split(red, test_size=0.15)\n",
    "white_train, white_test = train_test_split(white, test_size=0.15)"
   ]
  },
  {
   "cell_type": "code",
   "execution_count": null,
   "id": "93f6d684-4c78-4a3b-ae63-fb14099fccd7",
   "metadata": {},
   "outputs": [],
   "source": [
    "# define neuron with Pytorch\n",
    "class "
   ]
  },
  {
   "cell_type": "code",
   "execution_count": null,
   "id": "a5536ca1-82a8-466e-b776-8e2217e7100d",
   "metadata": {},
   "outputs": [],
   "source": []
  }
 ],
 "metadata": {
  "kernelspec": {
   "display_name": "Python 3 (ipykernel)",
   "language": "python",
   "name": "python3"
  },
  "language_info": {
   "codemirror_mode": {
    "name": "ipython",
    "version": 3
   },
   "file_extension": ".py",
   "mimetype": "text/x-python",
   "name": "python",
   "nbconvert_exporter": "python",
   "pygments_lexer": "ipython3",
   "version": "3.12.3"
  }
 },
 "nbformat": 4,
 "nbformat_minor": 5
}
