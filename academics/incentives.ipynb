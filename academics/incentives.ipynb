{
 "cells": [
  {
   "cell_type": "code",
   "execution_count": 3,
   "id": "d6c8ce48-bd4b-480c-91f9-74f6bcfb6f3a",
   "metadata": {},
   "outputs": [],
   "source": [
    "import pandas as pd\n",
    "\n",
    "old = pd.read_csv(\"grades_6.csv\").drop(columns=['name'])\n",
    "new = pd.read_csv(\"grades_12.csv\")\n",
    "\n",
    "grades = new.merge(old, how='outer', on='alpha')\n",
    "\n",
    "#df[df['SQPR'] - df['CQPR'] > 0.19]"
   ]
  },
  {
   "cell_type": "code",
   "execution_count": 4,
   "id": "ff395a5b-d59a-466b-ad3b-6935a8e06185",
   "metadata": {},
   "outputs": [
    {
     "name": "stdout",
     "output_type": "stream",
     "text": [
      "      alpha                  name  SQPR_12  SQPR_6\n",
      "28   256876       WILSON, PATRICK     1.93    2.10\n",
      "30   260543  BINZAINUDIN, MUHAMAD     1.53    2.50\n",
      "73   273006      JEROME, KINAMONI     1.78    1.98\n",
      "94   280696         BONSU, JUSTIN     1.90    2.05\n",
      "102  283486            KOH, CHLOE     1.82    1.76\n",
      "111  284800   ORTUONDOLEME, DIEGO     1.71    1.47\n",
      "121  286486    TOUZARD, SEBASTIEN     1.16    1.43\n"
     ]
    }
   ],
   "source": [
    "print(grades[grades['SQPR_12'] < 2.16])"
   ]
  },
  {
   "cell_type": "code",
   "execution_count": 5,
   "id": "cd873135-9ae1-484b-b1b3-40b3a1dce4ea",
   "metadata": {},
   "outputs": [
    {
     "name": "stdout",
     "output_type": "stream",
     "text": [
      "      alpha                  name  SQPR_12  SQPR_6\n",
      "3    250933         CHASE, JOSEPH     3.98    3.96\n",
      "5    251230        DAILEY, KEELIN     3.86    3.88\n",
      "9    251662       FEENEY, DELANEY     3.83    3.63\n",
      "12   252694  HUNTIMER, ALEXSANDRA     3.81    3.94\n",
      "18   254014        MARKEL, PORTER     3.80    3.80\n",
      "19   254071        MATHUR, DEVINA     3.87    3.87\n",
      "26   256642         WALKER, CALEB     3.88    3.75\n",
      "27   256792       WHITAKER, JASON     3.93    3.82\n",
      "29   260468       BERGESON, RILEY     3.88    3.93\n",
      "37   262130       FRAZIER, SERGEI     3.87    3.90\n",
      "41   262652     HARDAWAY, WILLIAM     4.00    4.00\n",
      "45   263630            LEE, JASON     3.94    4.00\n",
      "52   265874       SMITH, CLIFFORD     4.00    4.00\n",
      "53   265958    SOKOLOFF, MORIELLE     4.00    3.95\n",
      "56   266246          TALLEY, JACK     3.90    3.67\n",
      "58   269240        TONER, MATTHEW     3.94    3.87\n",
      "61   270414    BEAUCHAMP, MICHAEL     4.00    4.00\n",
      "62   270492            BIBB, RYAN     3.76    3.96\n",
      "66   271590        DROZD, TRISTON     4.00    4.00\n",
      "71   272436          GRAHAM, CHAD     3.93    3.97\n",
      "75   273630             LE, QUANG     3.86    3.73\n",
      "77   274470       MORRISON, TYLER     3.84    3.94\n",
      "79   274758      NUSSBAUM, REILLY     3.88    3.76\n",
      "81   275034        PENLAND, RIVER     3.79    3.69\n",
      "83   275286       RAYNOR, ABIGAIL     3.83    3.57\n",
      "87   276270   SWEARINGEN, JORDANN     3.77    3.66\n",
      "89   276630      VARTULI, WILLIAM     3.87    3.76\n",
      "93   280618          BINNEY, LUKE     4.00    4.00\n",
      "103  283510      KONSTANT, ANDREW     3.88    3.82\n",
      "104  283834           LIU, ISABEL     4.00    4.00\n"
     ]
    }
   ],
   "source": [
    "# rewarded with 2 extended EOL (1/C and 2/C) or upperclass weekend (3/C and 4/C)\n",
    "print(grades[grades['SQPR_12'] >= 3.75])\n",
    "grades = grades[grades['SQPR_12'] < 3.75]"
   ]
  },
  {
   "cell_type": "code",
   "execution_count": 6,
   "id": "2c4835b2-87af-4857-bf3b-7c933b93e12d",
   "metadata": {},
   "outputs": [
    {
     "name": "stdout",
     "output_type": "stream",
     "text": [
      "      alpha                      name  SQPR_12  SQPR_6\n",
      "6    251326           DEVENTE, NOELLE     3.71    3.76\n",
      "7    251482           DOUGHTY, JOSHUA     3.63    3.63\n",
      "10   251908              GARNER, LUKE     3.65    3.61\n",
      "13   252706              HURT, JOSEPH     3.64    3.52\n",
      "16   253384    KWASNIEWSKI, ALEXANDRA     3.72    3.33\n",
      "20   254332          MESSINESE, EMILY     3.51    3.44\n",
      "25   256378  TORRESVALENCIA, EMILIANO     3.61    3.72\n",
      "33   260816             CAHILL, JACOB     3.53    3.77\n",
      "36   261740          DURAN, LEIGHANNE     3.53    3.42\n",
      "38   262196           GALLAGHER, SEAN     3.62    3.67\n",
      "39   262244          GASKINS, WILLIAM     3.58    3.50\n",
      "43   262982            HUNT, CAROLINE     3.57    3.74\n",
      "44   263126           JOHNSON, AUSTIN     3.56    3.54\n",
      "50   265202            REASON, JOSEPH     3.66    3.46\n",
      "54   266054         STAFFORD, CHARLES     3.55    3.51\n",
      "57   266582         VENTERS, BENJAMIN     3.54    3.34\n",
      "59   270126           ALLMAN, STANTON     3.65    3.85\n",
      "60   270216           ANDREW, NATALIE     3.57    3.71\n",
      "68   271890             FIMIANI, LUCA     3.74    3.74\n",
      "69   272130            GANOR, GREGORY     3.67    3.47\n",
      "74   273174              KANG, JIHYUN     3.74    3.81\n",
      "91   277092                YOUNG, MIA     3.55    3.64\n",
      "95   280702          BORDA, ALEJANDRO     3.56    3.46\n",
      "100  282922             HU, CHRISTINE     3.62    3.24\n",
      "106  283924            LUNDIN, MEAGAN     3.54    3.74\n",
      "107  284278          MCLAUGHLIN, ERYN     3.57    3.38\n",
      "108  284320           MEEHAN, ZACHARY     3.55    3.59\n",
      "117  286246          STONEBURG, BRYNN     3.51    3.31\n",
      "120  286450               TKACH, JAKE     3.62    3.58\n",
      "124  287074       LIANG, YINZE GARCIA     3.53    3.63\n"
     ]
    }
   ],
   "source": [
    "# rewarded with 1 extended EOL (1/C and 2/C) or extra weekend (3/C and 4/C)\n",
    "print(grades[(grades['SQPR_12'] - grades['SQPR_6'] > 0.49) | (grades['SQPR_12'] >= 3.5)])\n",
    "grades = grades[(grades['SQPR_12'] - grades['SQPR_6'] < 0.5) & (grades['SQPR_12'] < 3.5)]"
   ]
  },
  {
   "cell_type": "code",
   "execution_count": 7,
   "id": "18c5a054-36df-4485-9316-dcb86ab39d47",
   "metadata": {},
   "outputs": [
    {
     "name": "stdout",
     "output_type": "stream",
     "text": [
      "      alpha                 name  SQPR_12  SQPR_6\n",
      "46   263972      MARSHALL, JONAH     3.00    2.66\n",
      "111  284800  ORTUONDOLEME, DIEGO     1.71    1.47\n"
     ]
    }
   ],
   "source": [
    "# rewarded with 2 sleep-ins\n",
    "print(grades[grades['SQPR_12'] - grades['SQPR_6'] > 0.19])"
   ]
  },
  {
   "cell_type": "code",
   "execution_count": null,
   "id": "6fd8331d-ca15-4fee-956d-60f6cdd51d10",
   "metadata": {},
   "outputs": [],
   "source": []
  }
 ],
 "metadata": {
  "kernelspec": {
   "display_name": "Python 3 (ipykernel)",
   "language": "python",
   "name": "python3"
  },
  "language_info": {
   "codemirror_mode": {
    "name": "ipython",
    "version": 3
   },
   "file_extension": ".py",
   "mimetype": "text/x-python",
   "name": "python",
   "nbconvert_exporter": "python",
   "pygments_lexer": "ipython3",
   "version": "3.12.3"
  }
 },
 "nbformat": 4,
 "nbformat_minor": 5
}
