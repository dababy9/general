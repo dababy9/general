{
 "cells": [
  {
   "cell_type": "code",
   "execution_count": 1,
   "id": "d6c8ce48-bd4b-480c-91f9-74f6bcfb6f3a",
   "metadata": {},
   "outputs": [],
   "source": [
    "import pandas as pd\n",
    "\n",
    "old = pd.read_csv(\"grades.csv\").drop(columns=['name'])\n",
    "new = pd.read_csv(\"grades_6.csv\")\n",
    "\n",
    "grades = new.merge(old, how='outer', on='alpha')\n",
    "\n",
    "#df[df['SQPR'] - df['CQPR'] > 0.19]"
   ]
  },
  {
   "cell_type": "code",
   "execution_count": 2,
   "id": "ff395a5b-d59a-466b-ad3b-6935a8e06185",
   "metadata": {},
   "outputs": [
    {
     "name": "stdout",
     "output_type": "stream",
     "text": [
      "      alpha                 name  SQPR_6  CQPR  SQPR\n",
      "27   256876      WILSON, PATRICK    2.10  2.28  2.54\n",
      "71   273006     JEROME, KINAMONI    1.98  2.17  2.24\n",
      "92   280696        BONSU, JUSTIN    2.05   NaN   NaN\n",
      "100  283486           KOH, CHLOE    1.76   NaN   NaN\n",
      "109  284800  ORTUONDOLEME, DIEGO    1.47   NaN   NaN\n",
      "119  286486   TOUZARD, SEBASTIEN    1.43   NaN   NaN\n"
     ]
    }
   ],
   "source": [
    "print(grades[grades['SQPR_6'] < 2.16])"
   ]
  },
  {
   "cell_type": "code",
   "execution_count": 25,
   "id": "cd873135-9ae1-484b-b1b3-40b3a1dce4ea",
   "metadata": {},
   "outputs": [
    {
     "name": "stdout",
     "output_type": "stream",
     "text": [
      "      alpha                  name  SQPR_6  CQPR  SQPR\n",
      "3    250933         CHASE, JOSEPH    3.96  3.61  3.74\n",
      "5    251230        DAILEY, KEELIN    3.88  3.76  3.81\n",
      "6    251326       DEVENTE, NOELLE    3.76  3.85  3.86\n",
      "12   252694  HUNTIMER, ALEXSANDRA    3.94  2.96  3.74\n",
      "18   254014        MARKEL, PORTER    3.80  3.59  3.72\n",
      "19   254071        MATHUR, DEVINA    3.87  3.78  3.66\n",
      "25   256642         WALKER, CALEB    3.75  3.81  3.95\n",
      "26   256792       WHITAKER, JASON    3.82  3.92  4.00\n",
      "28   260468       BERGESON, RILEY    3.93  3.83  3.85\n",
      "32   260816         CAHILL, JACOB    3.77  3.06  3.45\n",
      "36   262130       FRAZIER, SERGEI    3.90  3.84  3.95\n",
      "40   262652     HARDAWAY, WILLIAM    4.00  4.00  4.00\n",
      "44   263630            LEE, JASON    4.00  3.70  3.54\n",
      "50   265874       SMITH, CLIFFORD    4.00  4.00  4.00\n",
      "51   265958    SOKOLOFF, MORIELLE    3.95  3.86  3.83\n",
      "56   269240        TONER, MATTHEW    3.87   NaN   NaN\n",
      "57   270126       ALLMAN, STANTON    3.85  3.26  3.20\n",
      "59   270414    BEAUCHAMP, MICHAEL    4.00  3.54  3.50\n",
      "60   270492            BIBB, RYAN    3.96  3.53  3.45\n",
      "64   271590        DROZD, TRISTON    4.00  4.00  4.00\n",
      "69   272436          GRAHAM, CHAD    3.97  3.75  3.68\n",
      "72   273174          KANG, JIHYUN    3.81  3.49  3.68\n",
      "75   274470       MORRISON, TYLER    3.94  3.63  3.39\n",
      "77   274758      NUSSBAUM, REILLY    3.76  3.96  3.92\n",
      "87   276630      VARTULI, WILLIAM    3.76  3.68  3.56\n",
      "91   280618          BINNEY, LUKE    4.00   NaN   NaN\n",
      "101  283510      KONSTANT, ANDREW    3.82   NaN   NaN\n",
      "102  283834           LIU, ISABEL    4.00   NaN   NaN\n"
     ]
    }
   ],
   "source": [
    "# rewarded with 2 extended EOL (1/C and 2/C) or upperclass weekend (3/C and 4/C)\n",
    "print(grades[grades['SQPR_6'] >= 3.75])\n",
    "grades = grades[grades['SQPR_6'] < 3.75]"
   ]
  },
  {
   "cell_type": "code",
   "execution_count": 26,
   "id": "2c4835b2-87af-4857-bf3b-7c933b93e12d",
   "metadata": {},
   "outputs": [
    {
     "name": "stdout",
     "output_type": "stream",
     "text": [
      "      alpha                      name  SQPR_6  CQPR  SQPR\n",
      "7    251482           DOUGHTY, JOSHUA    3.63  3.47  3.66\n",
      "9    251662           FEENEY, DELANEY    3.63  3.36  3.88\n",
      "10   251908              GARNER, LUKE    3.61  2.94  3.23\n",
      "13   252706              HURT, JOSEPH    3.52  3.73  3.70\n",
      "14   252808         JANKOWSKI, PEYTON    3.61  2.84  2.69\n",
      "20   254332          MESSINESE, EMILY    3.44  2.72  2.78\n",
      "21   255208              RAMOS, COLIN    3.33  2.50  2.78\n",
      "23   255766            SICKLER, TYLER    3.26  2.75  2.81\n",
      "24   256378  TORRESVALENCIA, EMILIANO    3.72  3.39  3.44\n",
      "30   260756           BUCHANAN, BRIAN    3.21  2.65  3.68\n",
      "31   260792            BUTRUS, THOMAS    3.33  2.58  2.55\n",
      "34   261476           DAVIS, JONATHAN    3.65  3.69  3.64\n",
      "37   262196           GALLAGHER, SEAN    3.67  3.56  3.57\n",
      "38   262244          GASKINS, WILLIAM    3.50  3.47  3.35\n",
      "39   262454            GREEN, BRAYLON    3.26  2.64  3.03\n",
      "42   262982            HUNT, CAROLINE    3.74  3.28  3.32\n",
      "43   263126           JOHNSON, AUSTIN    3.54  3.75  4.00\n",
      "46   264050          MCATEER, KATHRYN    2.56  2.03  2.01\n",
      "47   264722          OATSVALL, ELIJAH    3.17  2.44  2.44\n",
      "52   266054         STAFFORD, CHARLES    3.51  3.61  3.55\n",
      "53   266066      STANKOVICH, BENJAMIN    3.26  2.66  2.79\n",
      "54   266246              TALLEY, JACK    3.67  3.76  3.83\n",
      "58   270216           ANDREW, NATALIE    3.71  3.60  3.71\n",
      "61   270546                BODE, JACK    3.52  3.51  3.49\n",
      "62   270564              BONNEY, LUCY    3.52  3.19  3.16\n",
      "66   271890             FIMIANI, LUCA    3.74  3.77  3.93\n",
      "70   272928              HURLEY, LIAM    2.93  2.32  2.22\n",
      "73   273630                 LE, QUANG    3.73  3.25  3.25\n",
      "76   274602          NEITZELL, SOPHIA    3.11  2.52  2.61\n",
      "79   275034            PENLAND, RIVER    3.69  3.78  3.89\n",
      "81   275286           RAYNOR, ABIGAIL    3.57  3.77  3.73\n",
      "84   275820              SHAO, ROBERT    3.22  2.64  2.76\n",
      "85   276270       SWEARINGEN, JORDANN    3.66  3.85  3.83\n",
      "89   277092                YOUNG, MIA    3.64  3.62  3.42\n",
      "103  283864             LOBBIA, JADEN    3.54   NaN   NaN\n",
      "104  283924            LUNDIN, MEAGAN    3.74   NaN   NaN\n",
      "106  284320           MEEHAN, ZACHARY    3.59   NaN   NaN\n",
      "116  286312                 SUN, ERIC    3.52   NaN   NaN\n",
      "118  286450               TKACH, JAKE    3.58   NaN   NaN\n",
      "122  287074       LIANG, YINZE GARCIA    3.63   NaN   NaN\n"
     ]
    }
   ],
   "source": [
    "# rewarded with 1 extended EOL (1/C and 2/C) or extra weekend (3/C and 4/C)\n",
    "print(grades[(grades['SQPR_6'] - grades['CQPR'] > 0.49) | (grades['SQPR_6'] >= 3.5)])\n",
    "grades = grades[(grades['SQPR_6'] - grades['CQPR'] < 0.5) & (grades['SQPR_6'] < 3.5)]"
   ]
  },
  {
   "cell_type": "code",
   "execution_count": 27,
   "id": "18c5a054-36df-4485-9316-dcb86ab39d47",
   "metadata": {},
   "outputs": [
    {
     "name": "stdout",
     "output_type": "stream",
     "text": [
      "     alpha               name  SQPR_6  CQPR  SQPR\n",
      "2   250432    BELCHER, HAYDEN    3.26  2.80  2.32\n",
      "4   251005       CHOU, ZHENYI    2.53  2.23  1.89\n",
      "35  261740   DURAN, LEIGHANNE    3.42  3.02  3.53\n",
      "49  265340         RO, WILLIE    2.52  2.23  2.41\n",
      "67  272130     GANOR, GREGORY    3.47  3.28  3.56\n",
      "83  275706  SCHOFIELD, PARKER    3.23  2.79  2.74\n",
      "88  276882   WILLIAMS, DANIEL    3.21  2.92  2.89\n"
     ]
    }
   ],
   "source": [
    "# rewarded with 2 sleep-ins\n",
    "print(grades[grades['SQPR_6'] - grades['CQPR'] > 0.19])"
   ]
  }
 ],
 "metadata": {
  "kernelspec": {
   "display_name": "Python 3 (ipykernel)",
   "language": "python",
   "name": "python3"
  },
  "language_info": {
   "codemirror_mode": {
    "name": "ipython",
    "version": 3
   },
   "file_extension": ".py",
   "mimetype": "text/x-python",
   "name": "python",
   "nbconvert_exporter": "python",
   "pygments_lexer": "ipython3",
   "version": "3.12.3"
  }
 },
 "nbformat": 4,
 "nbformat_minor": 5
}
